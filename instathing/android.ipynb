{
 "cells": [
  {
   "cell_type": "markdown",
   "metadata": {},
   "source": [
    "# 1. Preparation"
   ]
  },
  {
   "cell_type": "code",
   "execution_count": null,
   "metadata": {},
   "outputs": [],
   "source": [
    "# Imports\n",
    "from ppadb.client import Client as AdbClient # https://pypi.org/project/pure-python-adb/\n",
    "import random\n",
    "import sys\n",
    "import time"
   ]
  },
  {
   "cell_type": "markdown",
   "metadata": {},
   "source": [
    "# 2. Android Device Setup"
   ]
  },
  {
   "cell_type": "markdown",
   "metadata": {},
   "source": [
    "## 2.1. Connect Device to Computer"
   ]
  },
  {
   "cell_type": "markdown",
   "metadata": {},
   "source": [
    "### 2.1.1. Functions"
   ]
  },
  {
   "cell_type": "code",
   "execution_count": null,
   "metadata": {},
   "outputs": [],
   "source": [
    "# List Available Devices function\n",
    "def get_available_devices(client:AdbClient) -> list:\n",
    "    \n",
    "    # Get devices list\n",
    "    devices = client.devices()\n",
    "\n",
    "    # Print devices' serials list\n",
    "    print(f'Available Devices: {[device.serial for device in devices]}')\n",
    "    \n",
    "    # Return devices list\n",
    "    return devices"
   ]
  },
  {
   "cell_type": "code",
   "execution_count": null,
   "metadata": {},
   "outputs": [],
   "source": [
    "# Connect Device function\n",
    "def device_connect(client:AdbClient, device_serial:str):\n",
    "    \n",
    "    # Get devices list\n",
    "    devices = client.devices()\n",
    "    \n",
    "    # Check if empty devices list\n",
    "    if len(devices) == 0:\n",
    "        sys.exit('No available devices. Exiting program...')\n",
    "\n",
    "    # Go through devices list\n",
    "    for device in devices:\n",
    "        \n",
    "        # If desired device found:\n",
    "        if device.serial == device_serial:\n",
    "    \n",
    "            # Show \"connected\" message\n",
    "            print (f'Connected to {device.serial}')        \n",
    "\n",
    "            # Return device address\n",
    "            return device\n",
    "        \n",
    "    # If desired device not found:\n",
    "    print(f'Device {device_serial} not found.')\n",
    "    \n",
    "    # Return nothing\n",
    "    return None"
   ]
  },
  {
   "cell_type": "markdown",
   "metadata": {},
   "source": [
    "### 2.1.2. Connecting"
   ]
  },
  {
   "cell_type": "code",
   "execution_count": null,
   "metadata": {},
   "outputs": [],
   "source": [
    "# Create client object\n",
    "client = AdbClient(\n",
    "    host=\"127.0.0.1\",   # Default: \"127.0.0.1\"\n",
    "    port=5037           # Default: 5037\n",
    ")\n",
    "\n",
    "# Get available devices list\n",
    "devices = get_available_devices(client)\n",
    "\n",
    "# Connect to first available device\n",
    "device = device_connect(client, devices[0].serial)"
   ]
  },
  {
   "cell_type": "markdown",
   "metadata": {},
   "source": [
    "## 2.2. Get Device's Screen Resolution"
   ]
  },
  {
   "cell_type": "markdown",
   "metadata": {},
   "source": [
    "### 2.2.1. Functions"
   ]
  },
  {
   "cell_type": "code",
   "execution_count": null,
   "metadata": {},
   "outputs": [],
   "source": [
    "# Get Screen Resolution Function\n",
    "def get_screen_res(device:AdbClient) -> tuple:\n",
    "    \n",
    "    # Get device's screen physical size data (as STR)\n",
    "    scrn_data = device.shell('wm size')\n",
    "\n",
    "    # Remove \"Physical size: \" substring from screen data\n",
    "    scrn_data = scrn_data.replace('Physical size: ', '')\n",
    "\n",
    "    # Get screen's width and height values (as STRs)\n",
    "    scrn_width, scrn_height = scrn_data.split(sep='x')\n",
    "\n",
    "    # Cast width and height values as INTs\n",
    "    scrn_width = int(scrn_width)\n",
    "    scrn_height = int(scrn_height)\n",
    "\n",
    "    # Return screen width and screen height\n",
    "    return scrn_width, scrn_height"
   ]
  },
  {
   "cell_type": "markdown",
   "metadata": {},
   "source": [
    "### 2.2.2. Getting screen resolution"
   ]
  },
  {
   "cell_type": "code",
   "execution_count": null,
   "metadata": {},
   "outputs": [],
   "source": [
    "# Get device's screen resolution\n",
    "x_max, y_max = get_screen_res(device=device)"
   ]
  },
  {
   "cell_type": "markdown",
   "metadata": {},
   "source": [
    "# 3. Posting Offers"
   ]
  },
  {
   "cell_type": "markdown",
   "metadata": {},
   "source": [
    "## 3.1. Push offer image to device's internal storage"
   ]
  },
  {
   "cell_type": "code",
   "execution_count": null,
   "metadata": {},
   "outputs": [],
   "source": [
    "# Push offer JPG file from computer to device\n",
    "device.push(\"../resources/story_template_720x1280_final.jpg\", \"/storage/emulated/0/DCIM/temp/offer.jpg\")\n",
    "\n",
    "# Make device \"recognize\" JPG file as media\n",
    "device.shell('am broadcast -a android.intent.action.MEDIA_SCANNER_SCAN_FILE -d file:///storage/emulated/0/DCIM/temp/offer.jpg')"
   ]
  },
  {
   "cell_type": "markdown",
   "metadata": {},
   "source": [
    "## 3.2. Post Offer as Instagram Story"
   ]
  },
  {
   "cell_type": "markdown",
   "metadata": {},
   "source": [
    "### 3.2.1. Functions"
   ]
  },
  {
   "cell_type": "code",
   "execution_count": null,
   "metadata": {},
   "outputs": [],
   "source": [
    "# Wait function\n",
    "def wait(tmin=0.0, dt=0.0) -> None:\n",
    "    \n",
    "    # Get random float within [0, 1]\n",
    "    x = round(random.uniform(0, 1), 6)\n",
    "\n",
    "    # Calculate t\n",
    "    t = tmin + (x * dt)\n",
    "\n",
    "    # Sleep for t seconds\n",
    "    time.sleep(t)\n",
    "\n",
    "    # Debug\n",
    "    print(f'Waited for {t:.6f} seconds.')\n",
    "\n",
    "    # Return None\n",
    "    return None"
   ]
  },
  {
   "cell_type": "code",
   "execution_count": null,
   "metadata": {},
   "outputs": [],
   "source": [
    "# Input Touchscreen Tap function\n",
    "def input_touchscreen_tap(\n",
    "    device: AdbClient,\n",
    "    x0: float,\n",
    "    x1: float,\n",
    "    xmax: int,\n",
    "    y0: float,\n",
    "    y1: float,\n",
    "    ymax: int\n",
    ") -> None:\n",
    "\n",
    "    # Get random x within [x0*xmax , x1*xmax]\n",
    "    x = round(random.SystemRandom().uniform(x0,x1)*xmax)\n",
    "\n",
    "    # Get random y within [y0*ymax , y1*ymax]\n",
    "    y = round(random.SystemRandom().uniform(y0,y1)*ymax)\n",
    "\n",
    "    # Input touchscreen tap\n",
    "    device.shell(f'input touchscreen tap {x} {y}')\n",
    "\n",
    "    # Debug\n",
    "    print(f'Tapped on (x,y)=({x}, {y})')\n",
    "\n",
    "    # Return nothing\n",
    "    return None\n"
   ]
  },
  {
   "cell_type": "code",
   "execution_count": null,
   "metadata": {},
   "outputs": [],
   "source": [
    "# Drag Link Sticker function\n",
    "def input_touchscreen_swipe(\n",
    "    device: AdbClient,\n",
    "    x00: float,\n",
    "    x01: float,\n",
    "    xmax: int,\n",
    "    dx: int,\n",
    "    y00: float,\n",
    "    y01: float,\n",
    "    ymax: int,\n",
    "    dy: float,\n",
    "    delay: int\n",
    ") -> None:\n",
    "    \n",
    "    # Get random x0 within [x00*xmax , x01*xmax]\n",
    "    x0 = round(random.SystemRandom().uniform(x00,x01)*xmax)\n",
    "\n",
    "    # Get random y0 within [y0*ymax , y1*ymax]\n",
    "    y0 = round(random.SystemRandom().uniform(y00,y01)*ymax)\n",
    "\n",
    "    # Calculate x1, y1\n",
    "    x1 = x0 + dx\n",
    "    y1 = y0 + dy\n",
    "\n",
    "    # Input drag-and-drop command into adb shell\n",
    "    device.shell(f'input draganddrop {x0} {y0} {x1} {y1} {delay}')\n",
    "\n",
    "    # Debug\n",
    "    print(f'Drag-and-drop from (x,y)=({x0}, {y0}) to (x,y)=({x1}, {y1})')\n",
    "\n",
    "    # Return nothing\n",
    "    return None"
   ]
  },
  {
   "cell_type": "markdown",
   "metadata": {},
   "source": [
    "### 3.2.2. Posting"
   ]
  },
  {
   "cell_type": "code",
   "execution_count": null,
   "metadata": {},
   "outputs": [],
   "source": [
    "# Launch (re-launch) Instagram app on device\n",
    "device.shell('am force-stop com.instagram.android')\n",
    "device.shell('monkey -p com.instagram.android 1')\n",
    "\n",
    "# Wait\n",
    "wait(tmin=2, dt=0)"
   ]
  },
  {
   "cell_type": "code",
   "execution_count": null,
   "metadata": {},
   "outputs": [],
   "source": [
    "# Click on \"New post\" button\n",
    "input_touchscreen_tap(\n",
    "    device=device,\n",
    "    x0=0.416667,    # 450px/1080px\n",
    "    x1=0.583330,    # 630px/1080px\n",
    "    xmax=x_max,\n",
    "    y0=0.895834,    # 2150px/2400px\n",
    "    y1=0.9375,      # 2250px/2400px\n",
    "    ymax=y_max\n",
    ")\n",
    "\n",
    "# Wait a little\n",
    "wait(tmin=1, dt=0)"
   ]
  },
  {
   "cell_type": "code",
   "execution_count": null,
   "metadata": {},
   "outputs": [],
   "source": [
    "# Click on \"Story\" option\n",
    "input_touchscreen_tap(\n",
    "    device=device,\n",
    "    x0=0.574075,    # 620px/1080px\n",
    "    x1=0.722222,    # 780px/1080px\n",
    "    xmax=x_max,\n",
    "    y0=0.858334,    # 2060px/2400px\n",
    "    y1=0.889583,    # 2135px/2400px\n",
    "    ymax=y_max\n",
    ")\n",
    "\n",
    "# Wait a little\n",
    "wait(tmin=1, dt=0)"
   ]
  },
  {
   "cell_type": "code",
   "execution_count": null,
   "metadata": {},
   "outputs": [],
   "source": [
    "# Click on \"Open Phone Gallery\" button\n",
    "input_touchscreen_tap(\n",
    "    device=device,\n",
    "    x0=0.0092593,   # 10px/1080px\n",
    "    x1=0.157407,    # 170px/1080px\n",
    "    xmax=x_max,\n",
    "    y0=0.845834,    # 2030px/2400px\n",
    "    y1=0.904166,    # 2170px/2400px\n",
    "    ymax=y_max\n",
    ")\n",
    "\n",
    "# Wait a little\n",
    "wait(tmin=1.2, dt=0)"
   ]
  },
  {
   "cell_type": "code",
   "execution_count": null,
   "metadata": {},
   "outputs": [],
   "source": [
    "# Select first gallery image\n",
    "input_touchscreen_tap(\n",
    "    device=device,\n",
    "    x0=0.0092593,   # 10px/1080px\n",
    "    x1=0.3240741,   # 350px/1080px\n",
    "    xmax=x_max,\n",
    "    y0=0.2875,      # 690px/2400px\n",
    "    y1=0.533333,    # 1280px/2400px\n",
    "    ymax=y_max\n",
    ")\n",
    "\n",
    "# Wait a little\n",
    "wait(tmin=1.0, dt=0)"
   ]
  },
  {
   "cell_type": "code",
   "execution_count": null,
   "metadata": {},
   "outputs": [],
   "source": [
    "# Click on \"Add Sticker\" button\n",
    "input_touchscreen_tap(\n",
    "    device=device,\n",
    "    x0=0.5092593,   # 550px/1080px\n",
    "    x1=0.5925925,   # 640px/1080px\n",
    "    xmax=x_max,\n",
    "    y0=0.0625,      # 150px/2400px\n",
    "    y1=0.1,         # 240px/2400px\n",
    "    ymax=y_max\n",
    ")\n",
    "\n",
    "# Wait a little\n",
    "wait(tmin=0.8, dt=0)"
   ]
  },
  {
   "cell_type": "code",
   "execution_count": null,
   "metadata": {},
   "outputs": [],
   "source": [
    "# Click on \"Search\" field\n",
    "input_touchscreen_tap(\n",
    "    device=device,\n",
    "    x0=0.055556,    # 60px/1080px\n",
    "    x1=0.925925,    # 1000px/1080px\n",
    "    xmax=x_max,\n",
    "    y0=0.229167,    # 550px/2400px\n",
    "    y1=0.254166,    # 610px/2400px\n",
    "    ymax=y_max\n",
    ")\n",
    "\n",
    "# Wait a little\n",
    "wait(tmin=1, dt=0)"
   ]
  },
  {
   "cell_type": "code",
   "execution_count": null,
   "metadata": {},
   "outputs": [],
   "source": [
    "# Type \"link\" on search field\n",
    "device.shell('input text \"link\"')\n",
    "\n",
    "# Wait a little\n",
    "wait(tmin=0.1, dt=0)"
   ]
  },
  {
   "cell_type": "code",
   "execution_count": null,
   "metadata": {},
   "outputs": [],
   "source": [
    "# Click on \"Link\" sticker\n",
    "input_touchscreen_tap(\n",
    "    device=device,\n",
    "    x0=0.0462963,   # 50px/1080px\n",
    "    x1=0.212962,    # 230px/1080px\n",
    "    xmax=x_max,\n",
    "    y0=0.254167,    # 610px/2400px\n",
    "    y1=0.325,       # 780px/2400px\n",
    "    ymax=y_max\n",
    ")\n",
    "\n",
    "# Wait a little\n",
    "wait(tmin=1, dt=0)"
   ]
  },
  {
   "cell_type": "code",
   "execution_count": null,
   "metadata": {},
   "outputs": [],
   "source": [
    "# Input offer URL\n",
    "offer_url = 'https://redir.lomadee.com/v2/27067890937'\n",
    "device.shell(f'input text \"{offer_url}\"')\n",
    "\n",
    "# Wait a little\n",
    "wait(tmin=0.1, dt=0)"
   ]
  },
  {
   "cell_type": "code",
   "execution_count": null,
   "metadata": {},
   "outputs": [],
   "source": [
    "# Click on \"Customize sticker text\"\n",
    "input_touchscreen_tap(\n",
    "    device=device,\n",
    "    x0=0.055556,    # 60px/1080px\n",
    "    x1=0.925925,    # 1000px/1080px\n",
    "    xmax=x_max,\n",
    "    y0=0.304167,    # 730px/2400px\n",
    "    y1=0.316666,    # 760px/2400px\n",
    "    ymax=y_max\n",
    ")\n",
    "\n",
    "# Wait a little\n",
    "wait(tmin=0.5, dt=0)"
   ]
  },
  {
   "cell_type": "code",
   "execution_count": null,
   "metadata": {},
   "outputs": [],
   "source": [
    "# Input sticker text\n",
    "sticker_text = 'ver oferta'\n",
    "device.shell(f'input text \"{sticker_text}\"')\n",
    "\n",
    "# Wait a few seconds\n",
    "wait(tmin=0.1, dt=0)"
   ]
  },
  {
   "cell_type": "code",
   "execution_count": null,
   "metadata": {},
   "outputs": [],
   "source": [
    "# Click on \"Done\"\n",
    "input_touchscreen_tap(\n",
    "    device=device,\n",
    "    x0=0.851852,    # 920px/1080px\n",
    "    x1=0.981481,    # 1060px/1080px\n",
    "    xmax=x_max,\n",
    "    y0=0.1375,      # 330px/2400px\n",
    "    y1=0.1875,      # 450px/2400px\n",
    "    ymax=y_max\n",
    ")\n",
    "\n",
    "# Wait a little\n",
    "wait(tmin=0.5, dt=0)"
   ]
  },
  {
   "cell_type": "code",
   "execution_count": null,
   "metadata": {},
   "outputs": [],
   "source": [
    "# Change link sticker color (click it 3x)\n",
    "for _ in range(3):\n",
    "    input_touchscreen_tap(\n",
    "        device=device,\n",
    "        x0=0.444445,    # 480px/1080px\n",
    "        x1=0.555555,    # 600px/1080px\n",
    "        xmax=x_max,\n",
    "        y0=0.420834,    # 1010px/2400px\n",
    "        y1=0.45,        # 1080px/2400px\n",
    "        ymax=y_max\n",
    "    )\n",
    "\n",
    "    # Wait a little\n",
    "    wait(tmin=0.3, dt=0)"
   ]
  },
  {
   "cell_type": "code",
   "execution_count": null,
   "metadata": {},
   "outputs": [],
   "source": [
    "# Drag link sticker to desired position\n",
    "input_touchscreen_swipe(\n",
    "    device=device,\n",
    "    x00=0.601851852,    # 650px/1080px\n",
    "    x01=0.680555555,    # 735px/1080px\n",
    "    xmax=x_max,\n",
    "    dx=0,\n",
    "    y00=0.420833334,    # 1010px/2400px\n",
    "    y01=0.458333333,    # 1100px/2400px\n",
    "    ymax=y_max,\n",
    "    dy=1060,\n",
    "    delay=1500\n",
    ")\n",
    "\n",
    "# Wait a little\n",
    "wait(tmin=0.5, dt=0)"
   ]
  },
  {
   "cell_type": "code",
   "execution_count": null,
   "metadata": {},
   "outputs": [],
   "source": [
    "# # Click on \"Your story\" (and post offer)\n",
    "# input_touchscreen_tap(\n",
    "#     device=device,\n",
    "#     x0=0.0694445,   # 75px/1080px\n",
    "#     x1=0.2268518,   # 245px/1080px\n",
    "#     xmax=x_max,\n",
    "#     y0=0.864584,    # 2075px/2400px\n",
    "#     y1=0.880833,    # 2115px/2400px\n",
    "#     ymax=y_max\n",
    "# )\n",
    "\n",
    "# # Wait a little\n",
    "# wait(tmin=5, dt=0)"
   ]
  },
  {
   "cell_type": "markdown",
   "metadata": {},
   "source": [
    "## 3.3. Delete offer image from device's internal storage"
   ]
  },
  {
   "cell_type": "code",
   "execution_count": null,
   "metadata": {},
   "outputs": [],
   "source": [
    "# Remove offer image from device's internal storage\n",
    "device.shell('rm storage/emulated/0/DCIM/temp/offer.jpg')"
   ]
  }
 ],
 "metadata": {
  "kernelspec": {
   "display_name": ".venv",
   "language": "python",
   "name": "python3"
  },
  "language_info": {
   "codemirror_mode": {
    "name": "ipython",
    "version": 3
   },
   "file_extension": ".py",
   "mimetype": "text/x-python",
   "name": "python",
   "nbconvert_exporter": "python",
   "pygments_lexer": "ipython3",
   "version": "3.12.0"
  }
 },
 "nbformat": 4,
 "nbformat_minor": 2
}
