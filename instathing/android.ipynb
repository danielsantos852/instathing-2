{
 "cells": [
  {
   "cell_type": "markdown",
   "metadata": {},
   "source": [
    "# 1. Preparation"
   ]
  },
  {
   "cell_type": "markdown",
   "metadata": {},
   "source": [
    "## 1.1. Imports"
   ]
  },
  {
   "cell_type": "code",
   "execution_count": null,
   "metadata": {},
   "outputs": [],
   "source": [
    "# External imports\n",
    "from ppadb.client import Client as AdbClient # https://pypi.org/project/pure-python-adb/\n",
    "import time\n",
    "import random"
   ]
  },
  {
   "cell_type": "markdown",
   "metadata": {},
   "source": [
    "## 1.2. Parameters"
   ]
  },
  {
   "cell_type": "code",
   "execution_count": null,
   "metadata": {},
   "outputs": [],
   "source": [
    "MIN_IDLE_TIME = 2 # seconds\n",
    "MAX_IDLE_TIME = 3 # seconds"
   ]
  },
  {
   "cell_type": "markdown",
   "metadata": {},
   "source": [
    "# 2. Android Device Setup"
   ]
  },
  {
   "cell_type": "markdown",
   "metadata": {},
   "source": [
    "## 2.1. Connect Device to Computer"
   ]
  },
  {
   "cell_type": "code",
   "execution_count": null,
   "metadata": {},
   "outputs": [],
   "source": [
    "# Create client object\n",
    "client = AdbClient(host=\"127.0.0.1\", port=5037) # Default is \"127.0.0.1\" and 5037"
   ]
  },
  {
   "cell_type": "code",
   "execution_count": null,
   "metadata": {},
   "outputs": [],
   "source": [
    "# List Available Devices function\n",
    "def get_available_devices_list(client:AdbClient) -> list:\n",
    "    \n",
    "    # Get devices list\n",
    "    devices = client.devices()\n",
    "    \n",
    "    # Print devices list\n",
    "    print('DEVICES:')\n",
    "    for device in devices:\n",
    "        print (device.serial)\n",
    "    \n",
    "    # Return devices list\n",
    "    return devices"
   ]
  },
  {
   "cell_type": "code",
   "execution_count": null,
   "metadata": {},
   "outputs": [],
   "source": [
    "# Get available devices list\n",
    "devices = get_available_devices_list(client=client)"
   ]
  },
  {
   "cell_type": "code",
   "execution_count": null,
   "metadata": {},
   "outputs": [],
   "source": [
    "# Connect Device function\n",
    "def connect_device(client:AdbClient, device_serial:str):\n",
    "    \n",
    "    # Get devices list\n",
    "    devices = client.devices()\n",
    "    \n",
    "    # Check if empty devices list\n",
    "    if len(devices) == 0:\n",
    "        print('No available devices. Exiting...')\n",
    "        quit()\n",
    "\n",
    "    # Go through devices list\n",
    "    for device in devices:\n",
    "        \n",
    "        # If desired device found:\n",
    "        if device.serial == device_serial:\n",
    "    \n",
    "            # Show \"connected\" message\n",
    "            print (f'Connected to {device.serial}')        \n",
    "\n",
    "            # Return device address\n",
    "            return device\n",
    "        \n",
    "    # If desired device not found:\n",
    "    print(f'Device {device_serial} not found.')\n",
    "    \n",
    "    # Return nothing\n",
    "    return None"
   ]
  },
  {
   "cell_type": "code",
   "execution_count": null,
   "metadata": {},
   "outputs": [],
   "source": [
    "# Connect to phone\n",
    "device = connect_device(client=client, device_serial=devices[0].serial)"
   ]
  },
  {
   "cell_type": "markdown",
   "metadata": {},
   "source": [
    "## 2.2. Get Device's Scren Resolution"
   ]
  },
  {
   "cell_type": "code",
   "execution_count": null,
   "metadata": {},
   "outputs": [],
   "source": [
    "print(type(device))"
   ]
  },
  {
   "cell_type": "code",
   "execution_count": null,
   "metadata": {},
   "outputs": [],
   "source": [
    "# Get Screen Resolution Function\n",
    "def get_screen_res(device:AdbClient):\n",
    "    \n",
    "    # Get device's screen physical size data (as STR)\n",
    "    scrn_data = device.shell('wm size')\n",
    "\n",
    "    # Remove the \"Physical size: \" substring from STR\n",
    "    scrn_data = scrn_data.replace('Physical size: ', '')\n",
    "\n",
    "    # Get screen's width and height (as STRs)\n",
    "    scrn_width, scrn_height = scrn_data.split(sep='x')\n",
    "\n",
    "    # Cast width and height values to INT\n",
    "    scrn_width = int(scrn_width)\n",
    "    scrn_height = int(scrn_height)\n",
    "\n",
    "    # Return screen width and screen height\n",
    "    return scrn_width, scrn_height"
   ]
  },
  {
   "cell_type": "code",
   "execution_count": null,
   "metadata": {},
   "outputs": [],
   "source": [
    "# Get device's screen resolution\n",
    "x_max, y_max = get_screen_res(device=device)\n",
    "\n",
    "# Debug\n",
    "print(f'x_max = {x_max} ({type(x_max)})')\n",
    "print(f'y_max = {y_max} ({type(y_max)})')"
   ]
  },
  {
   "cell_type": "markdown",
   "metadata": {},
   "source": [
    "# 3. Posting Offers"
   ]
  },
  {
   "cell_type": "markdown",
   "metadata": {},
   "source": [
    "## 3.1. Push offer image to device's internal storage"
   ]
  },
  {
   "cell_type": "code",
   "execution_count": null,
   "metadata": {},
   "outputs": [],
   "source": [
    "# Push offer image from computer to device\n",
    "device.push(\"../resources/story_template_720x1280_final.jpg\", \"/storage/emulated/0/DCIM/temp/offer.jpg\")\n",
    "\n",
    "# Make device \"recognize\" offer image\n",
    "device.shell('am broadcast -a android.intent.action.MEDIA_SCANNER_SCAN_FILE -d file:///storage/emulated/0/DCIM/temp/offer.jpg')"
   ]
  },
  {
   "cell_type": "markdown",
   "metadata": {},
   "source": [
    "## 3.2. Post Offer as Instagram Story"
   ]
  },
  {
   "cell_type": "code",
   "execution_count": null,
   "metadata": {},
   "outputs": [],
   "source": [
    "# COMMANDS:\n",
    "\n",
    "#device.shell('input touchscreen tap x y')\n",
    "#device.shell('input touchscreen swipe x1 y1 x2 y2')\n",
    "#device.shell('input keyevent eventID')\n",
    "#device.shell('input text \"text\"')\n",
    "#device.shell('input draganddrop x1 y1 x2 y2')\n",
    "\n",
    "# # Click on \"\"\n",
    "# # x= [, ]\n",
    "# # y= [, ]\n",
    "# input_touchscreen_tap(\n",
    "#     device=device,\n",
    "#     x0=0.,\n",
    "#     x1=0.,\n",
    "#     xmax=x_max,\n",
    "#     y0=0.,\n",
    "#     y1=0.,\n",
    "#     ymax=y_max\n",
    "# )\n",
    "\n",
    "# # Wait\n",
    "# time.sleep(0.5)"
   ]
  },
  {
   "cell_type": "code",
   "execution_count": null,
   "metadata": {},
   "outputs": [],
   "source": [
    "# Launch (or re-launch) Instagram app on device\n",
    "device.shell('am force-stop com.instagram.android')\n",
    "device.shell('monkey -p com.instagram.android 1')\n",
    "time.sleep(2)"
   ]
  },
  {
   "cell_type": "code",
   "execution_count": null,
   "metadata": {},
   "outputs": [],
   "source": [
    "# Input Touchscreen Tap function\n",
    "def input_touchscreen_tap(\n",
    "    device: AdbClient,\n",
    "    x0: float,\n",
    "    x1: float,\n",
    "    xmax: int,\n",
    "    y0: float,\n",
    "    y1: float,\n",
    "    ymax: int\n",
    ") -> None:\n",
    "\n",
    "    # Get random x within [x0*xmax , x1*xmax]\n",
    "    x = round(random.SystemRandom().uniform(x0,x1)*xmax)\n",
    "\n",
    "    # Get random y within [y0*ymax , y1*ymax]\n",
    "    y = round(random.SystemRandom().uniform(y0,y1)*ymax)\n",
    "\n",
    "    # Input touchscreen tap\n",
    "    device.shell(f'input touchscreen tap {x} {y}')\n",
    "\n",
    "    # Debug\n",
    "    print(f'Tap on (x,y)=({x}, {y})')\n",
    "\n",
    "    # Return nothing\n",
    "    return None\n"
   ]
  },
  {
   "cell_type": "code",
   "execution_count": null,
   "metadata": {},
   "outputs": [],
   "source": [
    "# Click on \"New post\" button\n",
    "# x= [450, 630]\n",
    "# y= [2150, 2250]\n",
    "input_touchscreen_tap(\n",
    "    device=device,\n",
    "    x0=0.416667,\n",
    "    x1=0.583330,\n",
    "    xmax=x_max,\n",
    "    y0=0.895834,\n",
    "    y1=0.9375,\n",
    "    ymax=y_max\n",
    ")\n",
    "\n",
    "# Wait\n",
    "time.sleep(MIN_IDLE_TIME)"
   ]
  },
  {
   "cell_type": "code",
   "execution_count": null,
   "metadata": {},
   "outputs": [],
   "source": [
    "# Click on \"Story\" option\n",
    "# x= [620, 780]\n",
    "# y= [2060, 2135]\n",
    "input_touchscreen_tap(\n",
    "    device=device,\n",
    "    x0=0.574075,\n",
    "    x1=0.722222,\n",
    "    xmax=x_max,\n",
    "    y0=0.858334,\n",
    "    y1=0.889583,\n",
    "    ymax=y_max\n",
    ")\n",
    "\n",
    "# Wait\n",
    "time.sleep(MIN_IDLE_TIME)"
   ]
  },
  {
   "cell_type": "code",
   "execution_count": null,
   "metadata": {},
   "outputs": [],
   "source": [
    "# Click on \"Open Phone Gallery\" button\n",
    "# x= [10, 170]\n",
    "# y= [2030, 2170]\n",
    "input_touchscreen_tap(\n",
    "    device=device,\n",
    "    x0=0.0092593,\n",
    "    x1=0.157407,\n",
    "    xmax=x_max,\n",
    "    y0=0.845834,\n",
    "    y1=0.904166,\n",
    "    ymax=y_max\n",
    ")\n",
    "\n",
    "# Wait\n",
    "time.sleep(MIN_IDLE_TIME)"
   ]
  },
  {
   "cell_type": "code",
   "execution_count": null,
   "metadata": {},
   "outputs": [],
   "source": [
    "# Select first gallery image\n",
    "# x= [10, 350]\n",
    "# y= [690, 1280]\n",
    "input_touchscreen_tap(\n",
    "    device=device,\n",
    "    x0=0.0092593,\n",
    "    x1=0.3240741,\n",
    "    xmax=x_max,\n",
    "    y0=0.2875,\n",
    "    y1=0.533333,\n",
    "    ymax=y_max\n",
    ")\n",
    "\n",
    "# Wait\n",
    "time.sleep(MIN_IDLE_TIME)"
   ]
  },
  {
   "cell_type": "code",
   "execution_count": null,
   "metadata": {},
   "outputs": [],
   "source": [
    "# Click on \"Add Sticker\" button\n",
    "# x= [550, 640]\n",
    "# y= [150, 240]\n",
    "input_touchscreen_tap(\n",
    "    device=device,\n",
    "    x0=0.5092593,\n",
    "    x1=0.5925925,\n",
    "    xmax=x_max,\n",
    "    y0=0.0625,\n",
    "    y1=0.1,\n",
    "    ymax=y_max\n",
    ")\n",
    "\n",
    "# Wait\n",
    "time.sleep(1)"
   ]
  },
  {
   "cell_type": "code",
   "execution_count": null,
   "metadata": {},
   "outputs": [],
   "source": [
    "# Click on \"Search\" field\n",
    "# x= [60, 1000]\n",
    "# y= [550, 610]\n",
    "input_touchscreen_tap(\n",
    "    device=device,\n",
    "    x0=0.055556,\n",
    "    x1=0.925925,\n",
    "    xmax=x_max,\n",
    "    y0=0.229167,\n",
    "    y1=0.254166,\n",
    "    ymax=y_max\n",
    ")\n",
    "\n",
    "# Wait\n",
    "time.sleep(0.5)"
   ]
  },
  {
   "cell_type": "code",
   "execution_count": null,
   "metadata": {},
   "outputs": [],
   "source": [
    "# Type \"link\" on search field\n",
    "device.shell('input text \"link\"')"
   ]
  },
  {
   "cell_type": "code",
   "execution_count": null,
   "metadata": {},
   "outputs": [],
   "source": [
    "# Click on \"Link\" sticker\n",
    "# x= [50, 230]\n",
    "# y= [610, 780]\n",
    "input_touchscreen_tap(\n",
    "    device=device,\n",
    "    x0=0.0462963,\n",
    "    x1=0.212962,\n",
    "    xmax=x_max,\n",
    "    y0=0.254167,\n",
    "    y1=0.325,\n",
    "    ymax=y_max\n",
    ")\n",
    "\n",
    "# Wait\n",
    "time.sleep(1)"
   ]
  },
  {
   "cell_type": "code",
   "execution_count": null,
   "metadata": {},
   "outputs": [],
   "source": [
    "offer_url = 'https://redir.lomadee.com/v2/27067890937'\n",
    "\n",
    "# Input offer URL\n",
    "device.shell(f'input text \"{offer_url}\"')"
   ]
  },
  {
   "cell_type": "code",
   "execution_count": null,
   "metadata": {},
   "outputs": [],
   "source": [
    "# Click on \"Customize sticker text\"\n",
    "# x= [60, 1000]\n",
    "# y= [730, 760]\n",
    "input_touchscreen_tap(\n",
    "    device=device,\n",
    "    x0=0.055556,\n",
    "    x1=0.925925,\n",
    "    xmax=x_max,\n",
    "    y0=0.304167,\n",
    "    y1=0.316666,\n",
    "    ymax=y_max\n",
    ")\n",
    "\n",
    "# Wait\n",
    "time.sleep(0.5)"
   ]
  },
  {
   "cell_type": "code",
   "execution_count": null,
   "metadata": {},
   "outputs": [],
   "source": [
    "sticker_text = 'ver oferta'\n",
    "\n",
    "# Input sticker text\n",
    "device.shell(f'input text \"{sticker_text}\"')\n",
    "\n",
    "# Wait\n",
    "time.sleep(0.25)"
   ]
  },
  {
   "cell_type": "code",
   "execution_count": null,
   "metadata": {},
   "outputs": [],
   "source": [
    "# Click on \"Done\"\n",
    "# x= [920, 1060]\n",
    "# y= [330, 450]\n",
    "input_touchscreen_tap(\n",
    "    device=device,\n",
    "    x0=0.851852,\n",
    "    x1=0.981481,\n",
    "    xmax=x_max,\n",
    "    y0=0.1375,\n",
    "    y1=0.1875,\n",
    "    ymax=y_max\n",
    ")\n",
    "\n",
    "# Wait\n",
    "time.sleep(0.5)"
   ]
  },
  {
   "cell_type": "code",
   "execution_count": null,
   "metadata": {},
   "outputs": [],
   "source": [
    "# Change link sticker color\n",
    "\n",
    "# Do this 3 times\n",
    "for _ in range(3):\n",
    "\n",
    "    # Click on link sticker\n",
    "    # x= [480, 600]\n",
    "    # y= [1010, 1080]\n",
    "    input_touchscreen_tap(\n",
    "        device=device,\n",
    "        x0=0.444445,\n",
    "        x1=0.555555,\n",
    "        xmax=x_max,\n",
    "        y0=0.420834,\n",
    "        y1=0.45,\n",
    "        ymax=y_max\n",
    "    )\n",
    "\n",
    "    # Wait\n",
    "    time.sleep(0.3)"
   ]
  },
  {
   "cell_type": "code",
   "execution_count": null,
   "metadata": {},
   "outputs": [],
   "source": [
    "# Drag Link Sticker function\n",
    "def drag_link_sticker(\n",
    "    device: AdbClient,\n",
    "    x0: float,\n",
    "    x1: float,\n",
    "    xmax: int,\n",
    "    y0: float,\n",
    "    y1: float,\n",
    "    ymax: int\n",
    ") -> None:\n",
    "    \n",
    "    # Get random x within [x0*xmax , x1*xmax]\n",
    "    x = round(random.SystemRandom().uniform(x0,x1)*xmax)\n",
    "\n",
    "    # Get random y within [y0*ymax , y1*ymax]\n",
    "    y = round(random.SystemRandom().uniform(y0,y1)*ymax)\n",
    "\n",
    "    # Input drag and drop action\n",
    "    device.shell(f'input draganddrop {x} {y} {x} {y+1060} 1500')\n",
    "\n",
    "    # Debug\n",
    "    print(f'Drag and drop from (x,y)=({x}, {y}) to (x,y)=({x}, {y})')\n",
    "\n",
    "    # Return nothing\n",
    "    return None"
   ]
  },
  {
   "cell_type": "code",
   "execution_count": null,
   "metadata": {},
   "outputs": [],
   "source": [
    "# Drag link sticker to desired position\n",
    "# x= [650, 735]\n",
    "# y= [1010, 1100]\n",
    "drag_link_sticker(\n",
    "    device=device,\n",
    "    x0=0.601851852,\n",
    "    x1=0.680555555,\n",
    "    xmax=x_max,\n",
    "    y0=0.420833334,\n",
    "    y1=0.458333333,\n",
    "    ymax=y_max\n",
    ")\n",
    "\n",
    "# Wait\n",
    "time.sleep(0.5)"
   ]
  },
  {
   "cell_type": "code",
   "execution_count": null,
   "metadata": {},
   "outputs": [],
   "source": [
    "# Click on \"Your story\"\n",
    "# x= [75, 245]\n",
    "# y= [2075, 2115]\n",
    "input_touchscreen_tap(\n",
    "    device=device,\n",
    "    x0=0.0694445,\n",
    "    x1=0.2268518,\n",
    "    xmax=x_max,\n",
    "    y0=0.864584,\n",
    "    y1=0.880833,\n",
    "    ymax=y_max\n",
    ")\n",
    "\n",
    "# Wait\n",
    "time.sleep(5)"
   ]
  },
  {
   "cell_type": "markdown",
   "metadata": {},
   "source": [
    "## 3.3. Delete offer image from device's internal storage"
   ]
  },
  {
   "cell_type": "code",
   "execution_count": null,
   "metadata": {},
   "outputs": [],
   "source": [
    "# Remove offer image from device's internal storage\n",
    "device.shell('rm storage/emulated/0/DCIM/temp/offer.jpg')"
   ]
  }
 ],
 "metadata": {
  "kernelspec": {
   "display_name": ".venv",
   "language": "python",
   "name": "python3"
  },
  "language_info": {
   "codemirror_mode": {
    "name": "ipython",
    "version": 3
   },
   "file_extension": ".py",
   "mimetype": "text/x-python",
   "name": "python",
   "nbconvert_exporter": "python",
   "pygments_lexer": "ipython3",
   "version": "3.12.0"
  }
 },
 "nbformat": 4,
 "nbformat_minor": 2
}
