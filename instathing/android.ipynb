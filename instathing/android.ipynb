{
 "cells": [
  {
   "cell_type": "markdown",
   "metadata": {},
   "source": [
    "# 0. Import libraries"
   ]
  },
  {
   "cell_type": "code",
   "execution_count": 74,
   "metadata": {},
   "outputs": [],
   "source": [
    "# External imports\n",
    "from ppadb.client import Client as AdbClient # https://pypi.org/project/pure-python-adb/\n",
    "import time"
   ]
  },
  {
   "cell_type": "markdown",
   "metadata": {},
   "source": [
    "# 1. Connect phone to computer"
   ]
  },
  {
   "cell_type": "code",
   "execution_count": 75,
   "metadata": {},
   "outputs": [],
   "source": [
    "# List Available Devices function\n",
    "def list_available_devices(client:AdbClient) -> list:\n",
    "    \n",
    "    # Get devices list\n",
    "    devices = client.devices()\n",
    "    \n",
    "    # Print devices list\n",
    "    print('DEVICES:')\n",
    "    for device in devices:\n",
    "        print (device.serial)\n",
    "    \n",
    "    # Return devices list\n",
    "    return devices"
   ]
  },
  {
   "cell_type": "code",
   "execution_count": 76,
   "metadata": {},
   "outputs": [],
   "source": [
    "# Create client object\n",
    "client = AdbClient(host=\"127.0.0.1\", port=5037) # Default is \"127.0.0.1\" and 5037"
   ]
  },
  {
   "cell_type": "code",
   "execution_count": 77,
   "metadata": {},
   "outputs": [
    {
     "name": "stdout",
     "output_type": "stream",
     "text": [
      "DEVICES:\n",
      "23a63596\n"
     ]
    }
   ],
   "source": [
    "# Get devices list\n",
    "devices = list_available_devices(client=client)"
   ]
  },
  {
   "cell_type": "code",
   "execution_count": 78,
   "metadata": {},
   "outputs": [],
   "source": [
    "# Connect Device function\n",
    "def connect_device(client:AdbClient, device_serial:str):\n",
    "    \n",
    "    # Get devices list\n",
    "    devices = client.devices()\n",
    "    \n",
    "    # Check if empty devices list\n",
    "    if len(devices) == 0:\n",
    "        print('No available devices. Exiting...')\n",
    "        quit()\n",
    "\n",
    "    # Go through devices list\n",
    "    for device in devices:\n",
    "        \n",
    "        # If desired device found:\n",
    "        if device.serial == device_serial:\n",
    "    \n",
    "            # Show \"connected\" message\n",
    "            print (f'Connected to {device.serial}')        \n",
    "\n",
    "            # Return device address\n",
    "            return device\n",
    "        \n",
    "    # If desired device not found:\n",
    "    print(f'Device {device_serial} not found.')\n",
    "    \n",
    "    # Return nothing\n",
    "    return None"
   ]
  },
  {
   "cell_type": "code",
   "execution_count": 79,
   "metadata": {},
   "outputs": [
    {
     "name": "stdout",
     "output_type": "stream",
     "text": [
      "Connected to 23a63596\n"
     ]
    }
   ],
   "source": [
    "# Connect to phone\n",
    "phone = connect_device(client=client, device_serial=devices[0].serial)"
   ]
  },
  {
   "cell_type": "markdown",
   "metadata": {},
   "source": [
    "# 2. Launch Instagram"
   ]
  },
  {
   "cell_type": "code",
   "execution_count": 81,
   "metadata": {},
   "outputs": [],
   "source": [
    "# (Re)Start Instagram APP\n",
    "phone.shell('am force-stop com.instagram.android')\n",
    "phone.shell('monkey -p com.instagram.android 1')\n",
    "time.sleep(2)"
   ]
  },
  {
   "cell_type": "code",
   "execution_count": 82,
   "metadata": {},
   "outputs": [],
   "source": [
    "# Click \"new post\" button\n",
    "phone.shell('input touchscreen tap 530 2200')\n",
    "time.sleep(2)"
   ]
  },
  {
   "cell_type": "code",
   "execution_count": 83,
   "metadata": {},
   "outputs": [],
   "source": [
    "# Open phone gallery\n",
    "phone.shell('input touchscreen tap 100 2080')\n",
    "time.sleep(1)"
   ]
  },
  {
   "cell_type": "code",
   "execution_count": 84,
   "metadata": {},
   "outputs": [],
   "source": [
    "# Select first gallery image\n",
    "phone.shell('input touchscreen tap 500 600')\n",
    "time.sleep(1)"
   ]
  },
  {
   "cell_type": "code",
   "execution_count": 85,
   "metadata": {},
   "outputs": [],
   "source": [
    "# Select \"add sticker\" option\n",
    "phone.shell('input touchscreen tap 725 190')\n",
    "time.sleep(2)"
   ]
  },
  {
   "cell_type": "code",
   "execution_count": 86,
   "metadata": {},
   "outputs": [],
   "source": [
    "# Click \"search\" field\n",
    "phone.shell('input touchscreen tap 534 585')\n",
    "time.sleep(0.5)\n"
   ]
  },
  {
   "cell_type": "code",
   "execution_count": 87,
   "metadata": {},
   "outputs": [],
   "source": [
    "# Select \"link\" sticker\n",
    "phone.shell('input keyevent 40')\n",
    "phone.shell('input keyevent 37')\n",
    "phone.shell('input touchscreen tap 150 700')\n",
    "time.sleep(1)"
   ]
  },
  {
   "cell_type": "code",
   "execution_count": null,
   "metadata": {},
   "outputs": [],
   "source": [
    "# Input offer URL\n",
    "offer_url = 'www.youtube.com'\n",
    "phone.shell(f'Input text \"{offer_url}\"')\n",
    "time.sleep(1)"
   ]
  },
  {
   "cell_type": "code",
   "execution_count": null,
   "metadata": {},
   "outputs": [],
   "source": [
    "# Select \"Customize sticker text\" option\n",
    "phone.shell('input touchscreen tap 150 800')\n",
    "time.sleep(1)"
   ]
  },
  {
   "cell_type": "code",
   "execution_count": null,
   "metadata": {},
   "outputs": [],
   "source": [
    "sticker_text = 'ver anúncio'\n",
    "\n",
    "# Input sticker text\n",
    "phone.shell(f'Input text \"{sticker_text}\"')\n",
    "time.sleep(1)"
   ]
  },
  {
   "cell_type": "code",
   "execution_count": null,
   "metadata": {},
   "outputs": [],
   "source": [
    "# Select \"Done\"\n",
    "phone.shell('input touchscreen tap 1000 400')\n",
    "time.sleep(1)"
   ]
  },
  {
   "cell_type": "code",
   "execution_count": null,
   "metadata": {},
   "outputs": [],
   "source": [
    "#Commands to control phone\n",
    "#phone.shell('input touchscreen tap x y')\n",
    "\n",
    "#phone.shell('input touchscreen swipe x1 y1 x2 y2')\n",
    "\n",
    "#phone.shell('Input keyevent eventID')\n",
    "\n",
    "#phone.shell('Input text \"Enter your text here\"')\n",
    "\n",
    "#phone.shell('input draganddrop x1 y1 x2 y2')\n"
   ]
  }
 ],
 "metadata": {
  "kernelspec": {
   "display_name": ".venv",
   "language": "python",
   "name": "python3"
  },
  "language_info": {
   "codemirror_mode": {
    "name": "ipython",
    "version": 3
   },
   "file_extension": ".py",
   "mimetype": "text/x-python",
   "name": "python",
   "nbconvert_exporter": "python",
   "pygments_lexer": "ipython3",
   "version": "3.10.11"
  }
 },
 "nbformat": 4,
 "nbformat_minor": 2
}
