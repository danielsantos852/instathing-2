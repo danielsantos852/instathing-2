{
 "cells": [
  {
   "cell_type": "markdown",
   "metadata": {},
   "source": [
    "# 0. Import libraries"
   ]
  },
  {
   "cell_type": "code",
   "execution_count": null,
   "metadata": {},
   "outputs": [],
   "source": [
    "# External imports\n",
    "from ppadb.client import Client as AdbClient # https://pypi.org/project/pure-python-adb/\n",
    "import time"
   ]
  },
  {
   "cell_type": "markdown",
   "metadata": {},
   "source": [
    "# 1. Connect phone to computer"
   ]
  },
  {
   "cell_type": "code",
   "execution_count": null,
   "metadata": {},
   "outputs": [],
   "source": [
    "# List Available Devices function\n",
    "def list_available_devices(client:AdbClient) -> list:\n",
    "    \n",
    "    # Get devices list\n",
    "    devices = client.devices()\n",
    "    \n",
    "    # Print devices list\n",
    "    print('DEVICES:')\n",
    "    for device in devices:\n",
    "        print (device.serial)\n",
    "    \n",
    "    # Return devices list\n",
    "    return devices"
   ]
  },
  {
   "cell_type": "code",
   "execution_count": null,
   "metadata": {},
   "outputs": [],
   "source": [
    "# Create client object\n",
    "client = AdbClient(host=\"127.0.0.1\", port=5037) # Default is \"127.0.0.1\" and 5037"
   ]
  },
  {
   "cell_type": "code",
   "execution_count": null,
   "metadata": {},
   "outputs": [],
   "source": [
    "# Get devices list\n",
    "devices = list_available_devices(client=client)"
   ]
  },
  {
   "cell_type": "code",
   "execution_count": null,
   "metadata": {},
   "outputs": [],
   "source": [
    "# Connect Device function\n",
    "def connect_device(client:AdbClient, device_serial:str):\n",
    "    \n",
    "    # Get devices list\n",
    "    devices = client.devices()\n",
    "    \n",
    "    # Check if empty devices list\n",
    "    if len(devices) == 0:\n",
    "        print('No available devices. Exiting...')\n",
    "        quit()\n",
    "\n",
    "    # Go through devices list\n",
    "    for device in devices:\n",
    "        \n",
    "        # If desired device found:\n",
    "        if device.serial == device_serial:\n",
    "    \n",
    "            # Show \"connected\" message\n",
    "            print (f'Connected to {device.serial}')        \n",
    "\n",
    "            # Return device address\n",
    "            return device\n",
    "        \n",
    "    # If desired device not found:\n",
    "    print(f'Device {device_serial} not found.')\n",
    "    \n",
    "    # Return nothing\n",
    "    return None"
   ]
  },
  {
   "cell_type": "code",
   "execution_count": null,
   "metadata": {},
   "outputs": [],
   "source": [
    "# Connect to phone\n",
    "phone = connect_device(client=client, device_serial=devices[0].serial)"
   ]
  },
  {
   "cell_type": "code",
   "execution_count": null,
   "metadata": {},
   "outputs": [],
   "source": [
    "# Get device's screen physical size (as STR)\n",
    "phone_info = phone.shell('wm size')\n",
    "\n",
    "# Remove \"Physical size: \" from STR\n",
    "phone_info = phone_info.replace('Physical size: ', '')\n",
    "\n",
    "# Get max values of x and y coordinates (as STRs)\n",
    "x_max, y_max = phone_info.split(sep='x')\n",
    "\n",
    "# Cast values to INT\n",
    "x_max = int(x_max)\n",
    "y_max = int(y_max)\n",
    "\n",
    "print(f'x_max = {x_max}')\n",
    "print(f'y_max = {y_max}')"
   ]
  },
  {
   "cell_type": "markdown",
   "metadata": {},
   "source": [
    "# 2. Launch Instagram"
   ]
  },
  {
   "cell_type": "code",
   "execution_count": null,
   "metadata": {},
   "outputs": [],
   "source": [
    "#phone.shell('push \"../resources/story_template_720x1280_final.jpg\" \"\\Internal shared storage\\DCIM\\Camera\"')\n",
    "#phone.shell('push \"/home/hardik.trivedi/Downloads/one.jpg\" \"/data/local/\"')\n"
   ]
  },
  {
   "cell_type": "code",
   "execution_count": null,
   "metadata": {},
   "outputs": [],
   "source": [
    "# (Re)Start Instagram APP\n",
    "phone.shell('am force-stop com.instagram.android')\n",
    "phone.shell('monkey -p com.instagram.android 1')\n",
    "time.sleep(2)"
   ]
  },
  {
   "cell_type": "code",
   "execution_count": null,
   "metadata": {},
   "outputs": [],
   "source": [
    "# Click \"new post\" button\n",
    "phone.shell(f'input touchscreen tap {0.5*x_max} {0.916667*y_max}')\n",
    "#phone.shell('input touchscreen tap 530 2200')\n",
    "time.sleep(2)"
   ]
  },
  {
   "cell_type": "code",
   "execution_count": null,
   "metadata": {},
   "outputs": [],
   "source": [
    "# Select \"story\" option\n",
    "phone.shell(f'input touchscreen tap {0.580556*x_max} {0.875*y_max}')\n",
    "#phone.shell('input touchscreen tap 627 2104')\n",
    "time.sleep(1)"
   ]
  },
  {
   "cell_type": "code",
   "execution_count": null,
   "metadata": {},
   "outputs": [],
   "source": [
    "# Open phone gallery\n",
    "phone.shell(f'input touchscreen tap {0.092593*x_max} {0.875*y_max}')\n",
    "#phone.shell('input touchscreen tap 100 2080')\n",
    "time.sleep(1)"
   ]
  },
  {
   "cell_type": "code",
   "execution_count": null,
   "metadata": {},
   "outputs": [],
   "source": [
    "# Select first gallery image\n",
    "phone.shell(f'input touchscreen tap {0.5*x_max} {0.25*y_max}')\n",
    "#phone.shell('input touchscreen tap 500 600')\n",
    "time.sleep(1)"
   ]
  },
  {
   "cell_type": "code",
   "execution_count": null,
   "metadata": {},
   "outputs": [],
   "source": [
    "# Select \"add sticker\" option\n",
    "phone.shell(f'input touchscreen tap {0.675926*x_max} {0.083333*y_max}')\n",
    "#phone.shell('input touchscreen tap 730 200')\n",
    "time.sleep(1)\n",
    "\n",
    "# Click \"search\" field\n",
    "phone.shell(f'input touchscreen tap {0.5*x_max} {0.245833*y_max}')\n",
    "#phone.shell('input touchscreen tap 534 590')\n",
    "time.sleep(0.5)\n",
    "\n",
    "# Search and select \"link\" sticker\n",
    "phone.shell('input text \"link\"')"
   ]
  },
  {
   "cell_type": "code",
   "execution_count": null,
   "metadata": {},
   "outputs": [],
   "source": [
    "phone.shell(f'input touchscreen tap {0.138889*x_max} {0.291667*y_max}')\n",
    "#phone.shell('input touchscreen tap 150 700')\n",
    "time.sleep(1)\n",
    "\n",
    "# Input offer URL\n",
    "url = 'https://redir.lomadee.com/v2/27067890937'\n",
    "phone.shell(f'input text \"{url}\"')\n",
    "\n",
    "# Select \"Customize sticker text\" option\n",
    "phone.shell(f'input touchscreen tap {0.5*x_max} {0.339583*y_max}')\n",
    "#phone.shell('input touchscreen tap 150 815')\n",
    "time.sleep(0.5)\n",
    "\n",
    "# Input sticker text\n",
    "sticker_text = 'ver oferta'\n",
    "phone.shell(f'input text \"{sticker_text}\"')\n",
    "time.sleep(0.75)\n",
    "\n",
    "# Select \"Done\"\n",
    "phone.shell(f'input touchscreen tap {0.925926*x_max} {0.166667*y_max}')\n",
    "#phone.shell('input touchscreen tap 1000 400')\n",
    "time.sleep(2)"
   ]
  },
  {
   "cell_type": "code",
   "execution_count": null,
   "metadata": {},
   "outputs": [],
   "source": [
    "# Change sticker color\n",
    "for _ in range(3):\n",
    "    time.sleep(0.3)\n",
    "    phone.shell(f'input touchscreen tap {0.5*x_max} {0.4375*y_max}')\n",
    "time.sleep(0.5)"
   ]
  },
  {
   "cell_type": "code",
   "execution_count": null,
   "metadata": {},
   "outputs": [],
   "source": [
    "# Drag sticker to position\n",
    "phone.shell(f'input touchscreen swipe {700} {0.4375*y_max} {700} {2000} 3000')\n",
    "# phone.shell(f'input touchscreen swipe {700} {0.4375*y_max} {700} {2000} 5000')\n",
    "#phone.shell('input touchscreen swipe 540 1050 540 1905')\n"
   ]
  },
  {
   "cell_type": "code",
   "execution_count": null,
   "metadata": {},
   "outputs": [],
   "source": [
    "# Click (post to) \"Your story\"\n",
    "#phone.shell(f'input touchscreen tap {171} {2095}')\n",
    "#phone.shell('input touchscreen tap 171 2095')"
   ]
  },
  {
   "cell_type": "code",
   "execution_count": null,
   "metadata": {},
   "outputs": [],
   "source": [
    "# COMMANDS:\n",
    "\n",
    "#phone.shell('input touchscreen tap x y')\n",
    "#phone.shell('input touchscreen swipe x1 y1 x2 y2')\n",
    "#phone.shell('input keyevent eventID')\n",
    "#phone.shell('input text \"text\"')\n",
    "#phone.shell('input draganddrop x1 y1 x2 y2')"
   ]
  }
 ],
 "metadata": {
  "kernelspec": {
   "display_name": ".venv",
   "language": "python",
   "name": "python3"
  },
  "language_info": {
   "codemirror_mode": {
    "name": "ipython",
    "version": 3
   },
   "file_extension": ".py",
   "mimetype": "text/x-python",
   "name": "python",
   "nbconvert_exporter": "python",
   "pygments_lexer": "ipython3",
   "version": "3.10.11"
  }
 },
 "nbformat": 4,
 "nbformat_minor": 2
}
