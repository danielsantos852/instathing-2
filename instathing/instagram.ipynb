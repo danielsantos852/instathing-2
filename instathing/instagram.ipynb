{
 "cells": [
  {
   "cell_type": "markdown",
   "metadata": {},
   "source": [
    "# 0. Preamble"
   ]
  },
  {
   "cell_type": "code",
   "execution_count": 1,
   "metadata": {},
   "outputs": [],
   "source": [
    "# External imports\n",
    "from instagrapi import Client\n",
    "from instagrapi.exceptions import LoginRequired\n",
    "from instagrapi.types import StoryLink\n",
    "import logging\n",
    "\n",
    "# Internal imports\n",
    "from utils import import_credentials_from_json, import_dataframe_from_parquet"
   ]
  },
  {
   "cell_type": "code",
   "execution_count": 2,
   "metadata": {},
   "outputs": [],
   "source": [
    "# Global variables\n",
    "PATH_TO_CREDENTIALS = '../secrets/credentials.json'\n",
    "_ = import_credentials_from_json(path=PATH_TO_CREDENTIALS)\n",
    "IG_USERNAME = _['instagram']['descontosemfim']['username']\n",
    "IG_PASSWORD = _['instagram']['descontosemfim']['password']\n",
    "PATH_TO_SESSION_SETTINGS = '../secrets/ig_session.json'"
   ]
  },
  {
   "cell_type": "markdown",
   "metadata": {},
   "source": [
    "# 1. Logging in to Instagram"
   ]
  },
  {
   "cell_type": "markdown",
   "metadata": {},
   "source": [
    "## 1.1. The *ig_client_login()* function"
   ]
  },
  {
   "cell_type": "code",
   "execution_count": 3,
   "metadata": {},
   "outputs": [],
   "source": [
    "# Instagram Client Login function\n",
    "def ig_client_login(\n",
    "    username:str='',\n",
    "    password:str='',\n",
    "    path_to_session_settings: str = PATH_TO_SESSION_SETTINGS,\n",
    ") -> Client:\n",
    "\n",
    "    # Set logging config\n",
    "    logging.basicConfig(\n",
    "        filename='../logs/login.txt',\n",
    "        filemode='a',\n",
    "        format='%(asctime)s,%(msecs)d %(name)s %(levelname)s %(message)s',\n",
    "        datefmt='%H:%M:%S',\n",
    "        level=logging.INFO\n",
    "    )\n",
    "\n",
    "    # Create Logger object (logging channel)\n",
    "    logger = logging.getLogger('instathing')\n",
    "    \n",
    "    # Create Instagram Client object\n",
    "    logger.info('Creating Instagram Client object')\n",
    "    ig_client = Client()\n",
    "    logger.info('Done')\n",
    "\n",
    "    # Try to load session settings from file\n",
    "    try:\n",
    "        logger.info(f'Loading session settings from {path_to_session_settings}')\n",
    "        ig_client_settings = ig_client.load_settings(path=path_to_session_settings)\n",
    "        logger.info('Done')\n",
    "\n",
    "    # If file not present:\n",
    "    except FileNotFoundError:\n",
    "        logger.warning(f'No session settings file found in {path_to_session_settings}')\n",
    "        \n",
    "        # Log in to Instagram using username/password\n",
    "        logger.info('Logging in to Instagram using username/password')\n",
    "        ig_client.login(username=username, password=password)\n",
    "        logger.info('Done')\n",
    "        \n",
    "    # If file present\n",
    "    else:\n",
    "        \n",
    "        # Apply session settings\n",
    "        logger.info('Applying session settings to IG Client object')\n",
    "        ig_client.set_settings(settings=ig_client_settings)\n",
    "        logger.info('Done')\n",
    "\n",
    "        # Log in to Instagram\n",
    "        logger.info('Logging in to Instagram using session settings)')\n",
    "        ig_client.login(username=username, password=password)\n",
    "        logger.info('Done')\n",
    "\n",
    "        # Check session validity (by getting Instagram's news feed)\n",
    "        try:\n",
    "            logger.info('Checking session validity')\n",
    "            ig_client.get_timeline_feed()\n",
    "            logger.info('Session is valid')\n",
    "        \n",
    "        # If expired session\n",
    "        except LoginRequired:\n",
    "            logger.warning('Session is expired')\n",
    "            \n",
    "            # Clear session settings, keeping uuids\n",
    "            logger.info('Clearing session settings (keeping uuids)')\n",
    "            client_settings_old = ig_client.get_settings()\n",
    "            ig_client.set_settings({})\n",
    "            ig_client.set_uuids(client_settings_old['uuids'])\n",
    "            logger.info('Done')\n",
    "            \n",
    "            # Log in to Instagram\n",
    "            logger.info('Logging in to Instagram using username/password')\n",
    "            ig_client.login(username=username, password=password)\n",
    "            logger.info('Done')\n",
    "\n",
    "    # Finally:\n",
    "    finally:\n",
    "        \n",
    "        # Create/Overwrite session settings file\n",
    "        logger.info(f'Updating {path_to_session_settings}')\n",
    "        ig_client.dump_settings(path=path_to_session_settings)\n",
    "        logger.info('Done')\n",
    "        \n",
    "        # Set time between requests to 1-3 seconds (mimics human user)\n",
    "        ig_client.delay_range = [1, 3]\n",
    "        \n",
    "        # Return Client object\n",
    "        return ig_client"
   ]
  },
  {
   "cell_type": "markdown",
   "metadata": {},
   "source": [
    "## 1.2. Logging in"
   ]
  },
  {
   "cell_type": "code",
   "execution_count": 4,
   "metadata": {},
   "outputs": [],
   "source": [
    "ig_client = ig_client_login(\n",
    "    username=IG_USERNAME,\n",
    "    password=IG_PASSWORD,\n",
    ")"
   ]
  },
  {
   "cell_type": "markdown",
   "metadata": {},
   "source": [
    "# 2. Posting Instagram Story"
   ]
  },
  {
   "cell_type": "markdown",
   "metadata": {},
   "source": [
    "## 2.1. The *post_ig_story()* function"
   ]
  },
  {
   "cell_type": "code",
   "execution_count": 5,
   "metadata": {},
   "outputs": [],
   "source": [
    "# Post Instagram Story function\n",
    "def post_ig_story(\n",
    "    client:Client,\n",
    "    story_image:str='',\n",
    "    caption_text:str='',\n",
    "    link:str='',\n",
    "    url_btn_x:float=0.5, # 0.0-1.0 (left to right)\n",
    "    url_btn_y:float=0.5, # 0.0-1.0 (top to bottom)\n",
    "    url_btn_z:float=0.0,\n",
    "    url_btn_width:float=0.5, # 0-100% of width (720px)\n",
    "    url_btn_height:float=0.5, # 0-100% of height (1280px)\n",
    "    url_btn_rotation:float=0.0\n",
    ") -> None:\n",
    "\n",
    "    \"\"\"\n",
    "    Post image as Instagram Story with (invisible) marked area for URL button/sticker.\n",
    "    \n",
    "    Parameters\n",
    "    ----------\n",
    "    client: Client: \n",
    "        Instagrapi Client object (with active login).\n",
    "    \n",
    "    story_image: str = ''\n",
    "        Image for posting (720 x 1080 pixels).\n",
    "    \n",
    "    caption_text: str = ''\n",
    "        Caption text.\n",
    "    \n",
    "    link: str\n",
    "        Link to external page. \n",
    "        E.g.: 'https://www.google.com'\n",
    "        \n",
    "    url_btn_x: float = [0, 1]\n",
    "        URL button (center) x coordinate, from left to right. \n",
    "        E.g.: 0=left, 0.5=center, 1=right.\n",
    "    \n",
    "    url_btn_y: float = [0, 1]\n",
    "        URL button (center) y coordinate, from top to bottom. \n",
    "        E.g.: 0=top, 0.5=center, 1=bottom.\n",
    "    \n",
    "    url_btn_z: float = 0.0\n",
    "        ???\n",
    "    \n",
    "    url_btn_width: float = [0, 1]\n",
    "        URL button width (in % of image width). \n",
    "        E.g.: 0=0px, 0.5=320, 1=720px.\n",
    "    \n",
    "    url_btn_height: float = [0, 1]\n",
    "        URL button height (in % of image height). \n",
    "        E.g.: 0=0px, 0.5=540px, 1=1080px.\n",
    "    \n",
    "    url_btn_rotation: float = 0.0\n",
    "        ???\n",
    "    \n",
    "    Returns\n",
    "    -------\n",
    "    None\n",
    "    \"\"\"\n",
    "    \n",
    "    # Upload photo to Instagram Stories\n",
    "    client.photo_upload_to_story(\n",
    "        path=story_image,\n",
    "        caption=caption_text,\n",
    "        links=[StoryLink(\n",
    "            webUri=link,\n",
    "            x=url_btn_x,\n",
    "            y=url_btn_y,\n",
    "            z=url_btn_z,\n",
    "            width=url_btn_width,\n",
    "            height=url_btn_height,\n",
    "            rotation=url_btn_rotation\n",
    "        )],\n",
    "        extra_data={\"audience\": \"besties\"}\n",
    "    )\n",
    "    \n",
    "    # Return None\n",
    "    return None"
   ]
  },
  {
   "cell_type": "markdown",
   "metadata": {},
   "source": [
    "## 2.2. Posting an Instagram Story "
   ]
  },
  {
   "cell_type": "code",
   "execution_count": 6,
   "metadata": {},
   "outputs": [
    {
     "ename": "PhotoNotUpload",
     "evalue": "The password you entered is incorrect. Please try again. If you are sure that the password is correct, then change your IP address, because it is added to the blacklist of the Instagram Server",
     "output_type": "error",
     "traceback": [
      "\u001b[1;31m---------------------------------------------------------------------------\u001b[0m",
      "\u001b[1;31mPhotoNotUpload\u001b[0m                            Traceback (most recent call last)",
      "\u001b[1;32mc:\\Users\\Daniel Rocha\\Documents\\GitHub\\instathing-2\\instathing\\instagram.ipynb Cell 13\u001b[0m line \u001b[0;36m1\n\u001b[1;32m----> <a href='vscode-notebook-cell:/c%3A/Users/Daniel%20Rocha/Documents/GitHub/instathing-2/instathing/instagram.ipynb#X26sZmlsZQ%3D%3D?line=0'>1</a>\u001b[0m post_ig_story(\n\u001b[0;32m      <a href='vscode-notebook-cell:/c%3A/Users/Daniel%20Rocha/Documents/GitHub/instathing-2/instathing/instagram.ipynb#X26sZmlsZQ%3D%3D?line=1'>2</a>\u001b[0m     client\u001b[39m=\u001b[39;49mig_client,\n\u001b[0;32m      <a href='vscode-notebook-cell:/c%3A/Users/Daniel%20Rocha/Documents/GitHub/instathing-2/instathing/instagram.ipynb#X26sZmlsZQ%3D%3D?line=2'>3</a>\u001b[0m     story_image\u001b[39m=\u001b[39;49m\u001b[39m'\u001b[39;49m\u001b[39m../resources/story_template_720x1280_final.jpg\u001b[39;49m\u001b[39m'\u001b[39;49m,\n\u001b[0;32m      <a href='vscode-notebook-cell:/c%3A/Users/Daniel%20Rocha/Documents/GitHub/instathing-2/instathing/instagram.ipynb#X26sZmlsZQ%3D%3D?line=3'>4</a>\u001b[0m     caption_text\u001b[39m=\u001b[39;49m\u001b[39m'\u001b[39;49m\u001b[39m'\u001b[39;49m,\n\u001b[0;32m      <a href='vscode-notebook-cell:/c%3A/Users/Daniel%20Rocha/Documents/GitHub/instathing-2/instathing/instagram.ipynb#X26sZmlsZQ%3D%3D?line=4'>5</a>\u001b[0m     link\u001b[39m=\u001b[39;49m\u001b[39m'\u001b[39;49m\u001b[39mhttps://www.netshoes.com.br/\u001b[39;49m\u001b[39m'\u001b[39;49m,\n\u001b[0;32m      <a href='vscode-notebook-cell:/c%3A/Users/Daniel%20Rocha/Documents/GitHub/instathing-2/instathing/instagram.ipynb#X26sZmlsZQ%3D%3D?line=5'>6</a>\u001b[0m     url_btn_x\u001b[39m=\u001b[39;49m\u001b[39m0.5\u001b[39;49m, \u001b[39m# Centered (50%)\u001b[39;49;00m\n\u001b[0;32m      <a href='vscode-notebook-cell:/c%3A/Users/Daniel%20Rocha/Documents/GitHub/instathing-2/instathing/instagram.ipynb#X26sZmlsZQ%3D%3D?line=6'>7</a>\u001b[0m     url_btn_y\u001b[39m=\u001b[39;49m\u001b[39m0.8984375\u001b[39;49m, \u001b[39m# 1150px / 1280px\u001b[39;49;00m\n\u001b[0;32m      <a href='vscode-notebook-cell:/c%3A/Users/Daniel%20Rocha/Documents/GitHub/instathing-2/instathing/instagram.ipynb#X26sZmlsZQ%3D%3D?line=7'>8</a>\u001b[0m     url_btn_z\u001b[39m=\u001b[39;49m\u001b[39m0.0\u001b[39;49m,\n\u001b[0;32m      <a href='vscode-notebook-cell:/c%3A/Users/Daniel%20Rocha/Documents/GitHub/instathing-2/instathing/instagram.ipynb#X26sZmlsZQ%3D%3D?line=8'>9</a>\u001b[0m     url_btn_width\u001b[39m=\u001b[39;49m\u001b[39m0.5833333\u001b[39;49m, \u001b[39m# 420px / 720px\u001b[39;49;00m\n\u001b[0;32m     <a href='vscode-notebook-cell:/c%3A/Users/Daniel%20Rocha/Documents/GitHub/instathing-2/instathing/instagram.ipynb#X26sZmlsZQ%3D%3D?line=9'>10</a>\u001b[0m     url_btn_height\u001b[39m=\u001b[39;49m\u001b[39m0.0859375\u001b[39;49m, \u001b[39m# 110px / 1280px\u001b[39;49;00m\n\u001b[0;32m     <a href='vscode-notebook-cell:/c%3A/Users/Daniel%20Rocha/Documents/GitHub/instathing-2/instathing/instagram.ipynb#X26sZmlsZQ%3D%3D?line=10'>11</a>\u001b[0m     url_btn_rotation\u001b[39m=\u001b[39;49m\u001b[39m0.0\u001b[39;49m\n\u001b[0;32m     <a href='vscode-notebook-cell:/c%3A/Users/Daniel%20Rocha/Documents/GitHub/instathing-2/instathing/instagram.ipynb#X26sZmlsZQ%3D%3D?line=11'>12</a>\u001b[0m )\n",
      "\u001b[1;32mc:\\Users\\Daniel Rocha\\Documents\\GitHub\\instathing-2\\instathing\\instagram.ipynb Cell 13\u001b[0m line \u001b[0;36m6\n\u001b[0;32m     <a href='vscode-notebook-cell:/c%3A/Users/Daniel%20Rocha/Documents/GitHub/instathing-2/instathing/instagram.ipynb#X26sZmlsZQ%3D%3D?line=14'>15</a>\u001b[0m \u001b[39m\u001b[39m\u001b[39m\"\"\"\u001b[39;00m\n\u001b[0;32m     <a href='vscode-notebook-cell:/c%3A/Users/Daniel%20Rocha/Documents/GitHub/instathing-2/instathing/instagram.ipynb#X26sZmlsZQ%3D%3D?line=15'>16</a>\u001b[0m \u001b[39mPost image as Instagram Story with (invisible) marked area for URL button/sticker.\u001b[39;00m\n\u001b[0;32m     <a href='vscode-notebook-cell:/c%3A/Users/Daniel%20Rocha/Documents/GitHub/instathing-2/instathing/instagram.ipynb#X26sZmlsZQ%3D%3D?line=16'>17</a>\u001b[0m \u001b[39m\u001b[39;00m\n\u001b[1;32m   (...)\u001b[0m\n\u001b[0;32m     <a href='vscode-notebook-cell:/c%3A/Users/Daniel%20Rocha/Documents/GitHub/instathing-2/instathing/instagram.ipynb#X26sZmlsZQ%3D%3D?line=56'>57</a>\u001b[0m \u001b[39mNone\u001b[39;00m\n\u001b[0;32m     <a href='vscode-notebook-cell:/c%3A/Users/Daniel%20Rocha/Documents/GitHub/instathing-2/instathing/instagram.ipynb#X26sZmlsZQ%3D%3D?line=57'>58</a>\u001b[0m \u001b[39m\"\"\"\u001b[39;00m\n\u001b[0;32m     <a href='vscode-notebook-cell:/c%3A/Users/Daniel%20Rocha/Documents/GitHub/instathing-2/instathing/instagram.ipynb#X26sZmlsZQ%3D%3D?line=59'>60</a>\u001b[0m \u001b[39m# Upload photo to Instagram Stories\u001b[39;00m\n\u001b[1;32m---> <a href='vscode-notebook-cell:/c%3A/Users/Daniel%20Rocha/Documents/GitHub/instathing-2/instathing/instagram.ipynb#X26sZmlsZQ%3D%3D?line=60'>61</a>\u001b[0m client\u001b[39m.\u001b[39;49mphoto_upload_to_story(\n\u001b[0;32m     <a href='vscode-notebook-cell:/c%3A/Users/Daniel%20Rocha/Documents/GitHub/instathing-2/instathing/instagram.ipynb#X26sZmlsZQ%3D%3D?line=61'>62</a>\u001b[0m     path\u001b[39m=\u001b[39;49mstory_image,\n\u001b[0;32m     <a href='vscode-notebook-cell:/c%3A/Users/Daniel%20Rocha/Documents/GitHub/instathing-2/instathing/instagram.ipynb#X26sZmlsZQ%3D%3D?line=62'>63</a>\u001b[0m     caption\u001b[39m=\u001b[39;49mcaption_text,\n\u001b[0;32m     <a href='vscode-notebook-cell:/c%3A/Users/Daniel%20Rocha/Documents/GitHub/instathing-2/instathing/instagram.ipynb#X26sZmlsZQ%3D%3D?line=63'>64</a>\u001b[0m     links\u001b[39m=\u001b[39;49m[StoryLink(\n\u001b[0;32m     <a href='vscode-notebook-cell:/c%3A/Users/Daniel%20Rocha/Documents/GitHub/instathing-2/instathing/instagram.ipynb#X26sZmlsZQ%3D%3D?line=64'>65</a>\u001b[0m         webUri\u001b[39m=\u001b[39;49mlink,\n\u001b[0;32m     <a href='vscode-notebook-cell:/c%3A/Users/Daniel%20Rocha/Documents/GitHub/instathing-2/instathing/instagram.ipynb#X26sZmlsZQ%3D%3D?line=65'>66</a>\u001b[0m         x\u001b[39m=\u001b[39;49murl_btn_x,\n\u001b[0;32m     <a href='vscode-notebook-cell:/c%3A/Users/Daniel%20Rocha/Documents/GitHub/instathing-2/instathing/instagram.ipynb#X26sZmlsZQ%3D%3D?line=66'>67</a>\u001b[0m         y\u001b[39m=\u001b[39;49murl_btn_y,\n\u001b[0;32m     <a href='vscode-notebook-cell:/c%3A/Users/Daniel%20Rocha/Documents/GitHub/instathing-2/instathing/instagram.ipynb#X26sZmlsZQ%3D%3D?line=67'>68</a>\u001b[0m         z\u001b[39m=\u001b[39;49murl_btn_z,\n\u001b[0;32m     <a href='vscode-notebook-cell:/c%3A/Users/Daniel%20Rocha/Documents/GitHub/instathing-2/instathing/instagram.ipynb#X26sZmlsZQ%3D%3D?line=68'>69</a>\u001b[0m         width\u001b[39m=\u001b[39;49murl_btn_width,\n\u001b[0;32m     <a href='vscode-notebook-cell:/c%3A/Users/Daniel%20Rocha/Documents/GitHub/instathing-2/instathing/instagram.ipynb#X26sZmlsZQ%3D%3D?line=69'>70</a>\u001b[0m         height\u001b[39m=\u001b[39;49murl_btn_height,\n\u001b[0;32m     <a href='vscode-notebook-cell:/c%3A/Users/Daniel%20Rocha/Documents/GitHub/instathing-2/instathing/instagram.ipynb#X26sZmlsZQ%3D%3D?line=70'>71</a>\u001b[0m         rotation\u001b[39m=\u001b[39;49murl_btn_rotation\n\u001b[0;32m     <a href='vscode-notebook-cell:/c%3A/Users/Daniel%20Rocha/Documents/GitHub/instathing-2/instathing/instagram.ipynb#X26sZmlsZQ%3D%3D?line=71'>72</a>\u001b[0m     )],\n\u001b[0;32m     <a href='vscode-notebook-cell:/c%3A/Users/Daniel%20Rocha/Documents/GitHub/instathing-2/instathing/instagram.ipynb#X26sZmlsZQ%3D%3D?line=72'>73</a>\u001b[0m     extra_data\u001b[39m=\u001b[39;49m{\u001b[39m\"\u001b[39;49m\u001b[39maudience\u001b[39;49m\u001b[39m\"\u001b[39;49m: \u001b[39m\"\u001b[39;49m\u001b[39mbesties\u001b[39;49m\u001b[39m\"\u001b[39;49m}\n\u001b[0;32m     <a href='vscode-notebook-cell:/c%3A/Users/Daniel%20Rocha/Documents/GitHub/instathing-2/instathing/instagram.ipynb#X26sZmlsZQ%3D%3D?line=73'>74</a>\u001b[0m )\n\u001b[0;32m     <a href='vscode-notebook-cell:/c%3A/Users/Daniel%20Rocha/Documents/GitHub/instathing-2/instathing/instagram.ipynb#X26sZmlsZQ%3D%3D?line=75'>76</a>\u001b[0m \u001b[39m# Return None\u001b[39;00m\n\u001b[0;32m     <a href='vscode-notebook-cell:/c%3A/Users/Daniel%20Rocha/Documents/GitHub/instathing-2/instathing/instagram.ipynb#X26sZmlsZQ%3D%3D?line=76'>77</a>\u001b[0m \u001b[39mreturn\u001b[39;00m \u001b[39mNone\u001b[39;00m\n",
      "File \u001b[1;32mc:\\Users\\Daniel Rocha\\Documents\\GitHub\\instathing-2\\.venv\\Lib\\site-packages\\instagrapi\\mixins\\photo.py:366\u001b[0m, in \u001b[0;36mUploadPhotoMixin.photo_upload_to_story\u001b[1;34m(self, path, caption, upload_id, mentions, locations, links, hashtags, stickers, medias, extra_data)\u001b[0m\n\u001b[0;32m    334\u001b[0m \u001b[39m\u001b[39m\u001b[39m\"\"\"\u001b[39;00m\n\u001b[0;32m    335\u001b[0m \u001b[39mUpload photo as a story and configure it\u001b[39;00m\n\u001b[0;32m    336\u001b[0m \n\u001b[1;32m   (...)\u001b[0m\n\u001b[0;32m    363\u001b[0m \u001b[39m    An object of Media class\u001b[39;00m\n\u001b[0;32m    364\u001b[0m \u001b[39m\"\"\"\u001b[39;00m\n\u001b[0;32m    365\u001b[0m path \u001b[39m=\u001b[39m Path(path)\n\u001b[1;32m--> 366\u001b[0m upload_id, width, height \u001b[39m=\u001b[39m \u001b[39mself\u001b[39;49m\u001b[39m.\u001b[39;49mphoto_rupload(path, upload_id)\n\u001b[0;32m    367\u001b[0m \u001b[39mfor\u001b[39;00m attempt \u001b[39min\u001b[39;00m \u001b[39mrange\u001b[39m(\u001b[39m10\u001b[39m):\n\u001b[0;32m    368\u001b[0m     \u001b[39mself\u001b[39m\u001b[39m.\u001b[39mlogger\u001b[39m.\u001b[39mdebug(\u001b[39mf\u001b[39m\u001b[39m\"\u001b[39m\u001b[39mAttempt #\u001b[39m\u001b[39m{\u001b[39;00mattempt\u001b[39m}\u001b[39;00m\u001b[39m to configure Photo: \u001b[39m\u001b[39m{\u001b[39;00mpath\u001b[39m}\u001b[39;00m\u001b[39m\"\u001b[39m)\n",
      "File \u001b[1;32mc:\\Users\\Daniel Rocha\\Documents\\GitHub\\instathing-2\\.venv\\Lib\\site-packages\\instagrapi\\mixins\\photo.py:194\u001b[0m, in \u001b[0;36mUploadPhotoMixin.photo_rupload\u001b[1;34m(self, path, upload_id, to_album)\u001b[0m\n\u001b[0;32m    190\u001b[0m     \u001b[39mself\u001b[39m\u001b[39m.\u001b[39mlogger\u001b[39m.\u001b[39merror(\n\u001b[0;32m    191\u001b[0m         \u001b[39m\"\u001b[39m\u001b[39mPhoto Upload failed with the following response: \u001b[39m\u001b[39m%s\u001b[39;00m\u001b[39m\"\u001b[39m, response\n\u001b[0;32m    192\u001b[0m     )\n\u001b[0;32m    193\u001b[0m     last_json \u001b[39m=\u001b[39m \u001b[39mself\u001b[39m\u001b[39m.\u001b[39mlast_json  \u001b[39m# local variable for read in sentry\u001b[39;00m\n\u001b[1;32m--> 194\u001b[0m     \u001b[39mraise\u001b[39;00m PhotoNotUpload(response\u001b[39m.\u001b[39mtext, response\u001b[39m=\u001b[39mresponse, \u001b[39m*\u001b[39m\u001b[39m*\u001b[39mlast_json)\n\u001b[0;32m    195\u001b[0m \u001b[39mwith\u001b[39;00m Image\u001b[39m.\u001b[39mopen(path) \u001b[39mas\u001b[39;00m im:\n\u001b[0;32m    196\u001b[0m     width, height \u001b[39m=\u001b[39m im\u001b[39m.\u001b[39msize\n",
      "\u001b[1;31mPhotoNotUpload\u001b[0m: The password you entered is incorrect. Please try again. If you are sure that the password is correct, then change your IP address, because it is added to the blacklist of the Instagram Server"
     ]
    }
   ],
   "source": [
    "post_ig_story(\n",
    "    client=ig_client,\n",
    "    story_image='../resources/story_template_720x1280_final.jpg',\n",
    "    caption_text='',\n",
    "    link='https://www.netshoes.com.br/',\n",
    "    url_btn_x=0.5, # Centered (50%)\n",
    "    url_btn_y=0.8984375, # 1150px / 1280px\n",
    "    url_btn_z=0.0,\n",
    "    url_btn_width=0.5833333, # 420px / 720px\n",
    "    url_btn_height=0.0859375, # 110px / 1280px\n",
    "    url_btn_rotation=0.0\n",
    ")"
   ]
  }
 ],
 "metadata": {
  "kernelspec": {
   "display_name": ".venv",
   "language": "python",
   "name": "python3"
  },
  "language_info": {
   "codemirror_mode": {
    "name": "ipython",
    "version": 3
   },
   "file_extension": ".py",
   "mimetype": "text/x-python",
   "name": "python",
   "nbconvert_exporter": "python",
   "pygments_lexer": "ipython3",
   "version": "3.11.5"
  }
 },
 "nbformat": 4,
 "nbformat_minor": 2
}
