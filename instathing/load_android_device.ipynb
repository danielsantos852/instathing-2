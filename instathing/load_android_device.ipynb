{
 "cells": [
  {
   "cell_type": "markdown",
   "metadata": {},
   "source": [
    "# 1. Preparation"
   ]
  },
  {
   "cell_type": "code",
   "execution_count": null,
   "metadata": {},
   "outputs": [],
   "source": [
    "# Imports\n",
    "from ppadb.client import Client as AdbClient # https://pypi.org/project/pure-python-adb/\n",
    "import random\n",
    "from utils import get_available_devices, connect_to_device, get_device_screen_res\n",
    "from utils import input_touchscreen_tap, input_touchscreen_swipe, time_sleep"
   ]
  },
  {
   "cell_type": "markdown",
   "metadata": {},
   "source": [
    "# 2. Android Device Setup"
   ]
  },
  {
   "cell_type": "markdown",
   "metadata": {},
   "source": [
    "## 2.1. Connect Computer to Android Device"
   ]
  },
  {
   "cell_type": "code",
   "execution_count": null,
   "metadata": {},
   "outputs": [],
   "source": [
    "# Connect to first available android device from devices at 127.0.0.1:5037\n",
    "device = connect_to_device(get_available_devices()[0].serial)"
   ]
  },
  {
   "cell_type": "markdown",
   "metadata": {},
   "source": [
    "## 2.2. Get Device's Screen Resolution"
   ]
  },
  {
   "cell_type": "code",
   "execution_count": null,
   "metadata": {},
   "outputs": [],
   "source": [
    "# Get device's screen resolution\n",
    "x_max, y_max = get_device_screen_res(device)"
   ]
  },
  {
   "cell_type": "markdown",
   "metadata": {},
   "source": [
    "# 3. Posting Offers"
   ]
  },
  {
   "cell_type": "markdown",
   "metadata": {},
   "source": [
    "## 3.1. Push offer image to device's internal storage"
   ]
  },
  {
   "cell_type": "code",
   "execution_count": null,
   "metadata": {},
   "outputs": [],
   "source": [
    "# Push offer JPG file from computer to device\n",
    "device.push(\"../resources/story_template_720x1280_final.jpg\", \"/storage/emulated/0/DCIM/temp/offer.jpg\")\n",
    "\n",
    "# Make device \"recognize\" JPG file as media\n",
    "device.shell('am broadcast -a android.intent.action.MEDIA_SCANNER_SCAN_FILE -d file:///storage/emulated/0/DCIM/temp/offer.jpg')"
   ]
  },
  {
   "cell_type": "markdown",
   "metadata": {},
   "source": [
    "## 3.2. Post Offer as Instagram Story"
   ]
  },
  {
   "cell_type": "code",
   "execution_count": null,
   "metadata": {},
   "outputs": [],
   "source": [
    "# Launch (re-launch) Instagram app on device\n",
    "device.shell('am force-stop com.instagram.android')\n",
    "device.shell('monkey -p com.instagram.android 1')"
   ]
  },
  {
   "cell_type": "code",
   "execution_count": null,
   "metadata": {},
   "outputs": [],
   "source": [
    "# # OPTION 1 (quicker but unreliable)\n",
    "\n",
    "# # Wait\n",
    "# time_sleep(t_base=2, dt=0)\n",
    "\n",
    "# # Update feed\n",
    "# device.shell(f'input draganddrop {0.5*x_max} {300} {0.5*x_max} {1300} {500}')\n",
    "\n",
    "# # Wait\n",
    "# time_sleep(t_base=3.5, dt=0)\n",
    "\n",
    "# # Click on \"New story\" (+) button\n",
    "# input_touchscreen_tap(\n",
    "#     device=device,\n",
    "#     x0=0.1851852,   # 200px/1080px\n",
    "#     x1=0.2037037,   # 220px/1080px\n",
    "#     xmax=x_max,\n",
    "#     y0=0.18125,     # 435px/2400px\n",
    "#     y1=0.189583,    # 455px/2400px\n",
    "#     ymax=y_max,\n",
    "#     double_tap=False\n",
    "# )"
   ]
  },
  {
   "cell_type": "code",
   "execution_count": null,
   "metadata": {},
   "outputs": [],
   "source": [
    "# OPTION #2 (slower but more reliable)\n",
    "\n",
    "# Wait\n",
    "time_sleep(1.8)\n",
    "\n",
    "# Click on \"New post\" button\n",
    "input_touchscreen_tap(\n",
    "    device=device,\n",
    "    x0=0.416667,    # 450px/1080px\n",
    "    x1=0.583330,    # 630px/1080px\n",
    "    xmax=x_max,\n",
    "    y0=0.895834,    # 2150px/2400px\n",
    "    y1=0.9375,      # 2250px/2400px\n",
    "    ymax=y_max\n",
    ")\n",
    "\n",
    "# Wait\n",
    "time_sleep(t_base=3.5)\n",
    "\n",
    "# Click on \"Story\" option\n",
    "input_touchscreen_tap(\n",
    "    device=device,\n",
    "    x0=0.5712963,   # 617px/1080px\n",
    "    x1=0.574074,    # 620px/1080px\n",
    "    xmax=x_max,\n",
    "    y0=0.8625,      # 2070px/2400px\n",
    "    y1=0.885416,    # 2125px/2400px\n",
    "    ymax=y_max\n",
    ")\n",
    "\n",
    "# Wait\n",
    "time_sleep(t_base=0.7)\n",
    "\n",
    "# Click on \"Open Phone Gallery\" button\n",
    "input_touchscreen_tap(\n",
    "    device=device,\n",
    "    x0=0.0092593,   # 10px/1080px\n",
    "    x1=0.157407,    # 170px/1080px\n",
    "    xmax=x_max,\n",
    "    y0=0.845834,    # 2030px/2400px\n",
    "    y1=0.904166,    # 2170px/2400px\n",
    "    ymax=y_max\n",
    ")"
   ]
  },
  {
   "cell_type": "code",
   "execution_count": null,
   "metadata": {},
   "outputs": [],
   "source": [
    "# Wait\n",
    "time_sleep(t_base=2.0)\n",
    "\n",
    "# Select first gallery image\n",
    "input_touchscreen_tap(\n",
    "    device=device,\n",
    "    x0=0.0092593,   # 10px/1080px\n",
    "    x1=0.3240741,   # 350px/1080px\n",
    "    xmax=x_max,\n",
    "    y0=0.2875,      # 690px/2400px\n",
    "    y1=0.533333,    # 1280px/2400px\n",
    "    ymax=y_max\n",
    ")"
   ]
  },
  {
   "cell_type": "code",
   "execution_count": null,
   "metadata": {},
   "outputs": [],
   "source": [
    "# Wait\n",
    "time_sleep(t_base=0.9)\n",
    "\n",
    "# Click on \"Add Sticker\" button\n",
    "input_touchscreen_tap(\n",
    "    device=device,\n",
    "    x0=0.5092593,   # 550px/1080px\n",
    "    x1=0.5925925,   # 640px/1080px\n",
    "    xmax=x_max,\n",
    "    y0=0.0625,      # 150px/2400px\n",
    "    y1=0.1,         # 240px/2400px\n",
    "    ymax=y_max\n",
    ")"
   ]
  },
  {
   "cell_type": "code",
   "execution_count": null,
   "metadata": {},
   "outputs": [],
   "source": [
    "# Wait\n",
    "time_sleep(t_base=0.5)\n",
    "\n",
    "# Click on \"Search\" field\n",
    "input_touchscreen_tap(\n",
    "    device=device,\n",
    "    x0=0.055556,    # 60px/1080px\n",
    "    x1=0.925925,    # 1000px/1080px\n",
    "    xmax=x_max,\n",
    "    y0=0.229167,    # 550px/2400px\n",
    "    y1=0.254166,    # 610px/2400px\n",
    "    ymax=y_max\n",
    ")"
   ]
  },
  {
   "cell_type": "code",
   "execution_count": null,
   "metadata": {},
   "outputs": [],
   "source": [
    "# Wait\n",
    "time_sleep(t_base=2.5)\n",
    "\n",
    "# Type \"link\" on search field\n",
    "device.shell('input text \"link\"')"
   ]
  },
  {
   "cell_type": "code",
   "execution_count": null,
   "metadata": {},
   "outputs": [],
   "source": [
    "# Wait\n",
    "time_sleep(t_base=0.5)\n",
    "\n",
    "# Click on \"Link\" sticker\n",
    "input_touchscreen_tap(\n",
    "    device=device,\n",
    "    x0=0.0462963,   # 50px/1080px\n",
    "    x1=0.212962,    # 230px/1080px\n",
    "    xmax=x_max,\n",
    "    y0=0.254167,    # 610px/2400px\n",
    "    y1=0.325,       # 780px/2400px\n",
    "    ymax=y_max\n",
    ")"
   ]
  },
  {
   "cell_type": "code",
   "execution_count": null,
   "metadata": {},
   "outputs": [],
   "source": [
    "# Wait\n",
    "time_sleep(t_base=0.5)\n",
    "\n",
    "# Input offer URL\n",
    "offer_url = 'https://redir.lomadee.com/v2/27067890937'\n",
    "device.shell(f'input text \"{offer_url}\"')"
   ]
  },
  {
   "cell_type": "code",
   "execution_count": null,
   "metadata": {},
   "outputs": [],
   "source": [
    "# Wait\n",
    "time_sleep(t_base=0.5)\n",
    "\n",
    "# Click on \"Customize sticker text\"\n",
    "input_touchscreen_tap(\n",
    "    device=device,\n",
    "    x0=0.055556,    # 60px/1080px\n",
    "    x1=0.925925,    # 1000px/1080px\n",
    "    xmax=x_max,\n",
    "    y0=0.304167,    # 730px/2400px\n",
    "    y1=0.316666,    # 760px/2400px\n",
    "    ymax=y_max\n",
    ")"
   ]
  },
  {
   "cell_type": "code",
   "execution_count": null,
   "metadata": {},
   "outputs": [],
   "source": [
    "# Wait\n",
    "time_sleep(t_base=0.5)\n",
    "\n",
    "# Input sticker text\n",
    "sticker_text = 'ver oferta'\n",
    "device.shell(f'input text \"{sticker_text}\"')"
   ]
  },
  {
   "cell_type": "code",
   "execution_count": null,
   "metadata": {},
   "outputs": [],
   "source": [
    "# Wait\n",
    "time_sleep(t_base=1.7)\n",
    "\n",
    "# Click on \"Done\"\n",
    "input_touchscreen_tap(\n",
    "    device=device,\n",
    "    x0=0.851852,    # 920px/1080px\n",
    "    x1=0.981481,    # 1060px/1080px\n",
    "    xmax=x_max,\n",
    "    y0=0.1375,      # 330px/2400px\n",
    "    y1=0.1875,      # 450px/2400px\n",
    "    ymax=y_max\n",
    ")"
   ]
  },
  {
   "cell_type": "code",
   "execution_count": null,
   "metadata": {},
   "outputs": [],
   "source": [
    "# Change link sticker color (click it 3x)\n",
    "for _ in range(3):\n",
    "    \n",
    "    # Wait\n",
    "    time_sleep(t_base=0.8)\n",
    "\n",
    "    # Tap on link sticker (changes color)\n",
    "    input_touchscreen_tap(\n",
    "        device=device,\n",
    "        x0=0.444445,    # 480px/1080px\n",
    "        x1=0.555555,    # 600px/1080px\n",
    "        xmax=x_max,\n",
    "        y0=0.420834,    # 1010px/2400px\n",
    "        y1=0.45,        # 1080px/2400px\n",
    "        ymax=y_max\n",
    "    )"
   ]
  },
  {
   "cell_type": "code",
   "execution_count": null,
   "metadata": {},
   "outputs": [],
   "source": [
    "# Wait\n",
    "time_sleep(t_base=0.8)\n",
    "\n",
    "# Drag link sticker to desired position\n",
    "input_touchscreen_swipe(\n",
    "    device=device,\n",
    "    x00=0.601851852,    # 650px/1080px\n",
    "    x01=0.680555555,    # 735px/1080px\n",
    "    xmax=x_max,\n",
    "    dx=0,\n",
    "    y00=0.420833334,    # 1010px/2400px\n",
    "    y01=0.458333333,    # 1100px/2400px\n",
    "    ymax=y_max,\n",
    "    dy=1060,\n",
    "    delay=1500\n",
    ")"
   ]
  },
  {
   "cell_type": "code",
   "execution_count": null,
   "metadata": {},
   "outputs": [],
   "source": [
    "# Wait\n",
    "time_sleep(t_base=2)\n",
    "\n",
    "# # Click on \"Your story\" (and post offer)\n",
    "# input_touchscreen_tap(\n",
    "#     device=device,\n",
    "#     x0=0.0694445,   # 75px/1080px\n",
    "#     x1=0.2268518,   # 245px/1080px\n",
    "#     xmax=x_max,\n",
    "#     y0=0.864584,    # 2075px/2400px\n",
    "#     y1=0.880833,    # 2115px/2400px\n",
    "#     ymax=y_max\n",
    "# )\n",
    "\n",
    "# Click on \"Close Friends story\" (and post offer)\n",
    "input_touchscreen_tap(\n",
    "    device=device,\n",
    "    x0=0.3240741,   # 350px/1080px\n",
    "    x1=0.5092592,   # 550px/1080px\n",
    "    xmax=x_max,\n",
    "    y0=0.864584,    # 2075px/2400px\n",
    "    y1=0.880833,    # 2115px/2400px\n",
    "    ymax=y_max\n",
    ")"
   ]
  },
  {
   "cell_type": "markdown",
   "metadata": {},
   "source": [
    "## 3.3. Delete offer image from device's internal storage"
   ]
  },
  {
   "cell_type": "code",
   "execution_count": null,
   "metadata": {},
   "outputs": [],
   "source": [
    "# Remove offer image from device's internal storage\n",
    "device.shell('rm storage/emulated/0/DCIM/temp/offer.jpg')"
   ]
  }
 ],
 "metadata": {
  "kernelspec": {
   "display_name": ".venv",
   "language": "python",
   "name": "python3"
  },
  "language_info": {
   "codemirror_mode": {
    "name": "ipython",
    "version": 3
   },
   "file_extension": ".py",
   "mimetype": "text/x-python",
   "name": "python",
   "nbconvert_exporter": "python",
   "pygments_lexer": "ipython3",
   "version": "3.12.0"
  }
 },
 "nbformat": 4,
 "nbformat_minor": 2
}
