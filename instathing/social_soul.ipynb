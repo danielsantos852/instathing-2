{
 "cells": [
  {
   "cell_type": "markdown",
   "metadata": {},
   "source": [
    "# Importing Libraries"
   ]
  },
  {
   "cell_type": "code",
   "execution_count": null,
   "metadata": {},
   "outputs": [],
   "source": [
    "# External imports\n",
    "import pandas as pd\n",
    "import numpy as np\n",
    "from PIL import Image, ImageDraw, ImageFont\n",
    "from PIL.PngImagePlugin import PngImageFile\n",
    "import requests\n",
    "from textwrap import wrap"
   ]
  },
  {
   "cell_type": "code",
   "execution_count": null,
   "metadata": {},
   "outputs": [],
   "source": [
    "# Internal imports\n",
    "from utils import import_xml_as_df"
   ]
  },
  {
   "cell_type": "markdown",
   "metadata": {},
   "source": [
    "# 1. Importing XML as Pandas DataFrame"
   ]
  },
  {
   "cell_type": "code",
   "execution_count": null,
   "metadata": {},
   "outputs": [],
   "source": [
    "# Generate raw offers dataframe\n",
    "df_offers_raw = import_xml_as_df(path='../resources/examples/LomadeeDownload_raw.xml')"
   ]
  },
  {
   "cell_type": "code",
   "execution_count": null,
   "metadata": {},
   "outputs": [],
   "source": [
    "# Display raw offers dataframe\n",
    "display(df_offers_raw)"
   ]
  },
  {
   "cell_type": "markdown",
   "metadata": {},
   "source": [
    "# 2. Refining DataFrame"
   ]
  },
  {
   "cell_type": "code",
   "execution_count": null,
   "metadata": {},
   "outputs": [],
   "source": [
    "# Refine Dataframe (Social Soul) function\n",
    "def refine_dataframe(df:pd.core.frame.DataFrame) -> pd.core.frame.DataFrame:\n",
    "    \n",
    "    # STEP 1: Select columns of interest\n",
    "    # Set columns of interest\n",
    "    columns_of_interest = [\n",
    "        'offerName',\n",
    "        #'sellerId',\n",
    "        #'sellerThumbnail',\n",
    "        'offerLink',\n",
    "        'offerThumbnail',\n",
    "        'priceFrom',\n",
    "        #'sellerName',\n",
    "        'priceTo',\n",
    "        #'sku',\n",
    "        #'categoryName',\n",
    "        #'categoryId',\n",
    "    ]\n",
    "    # Select columns of interest only\n",
    "    df = df.loc[:,columns_of_interest]\n",
    "    \n",
    "    \n",
    "    # STEP 2: Cast prices from STR to FLOAT64\n",
    "    df['priceFrom'] = df['priceFrom'].astype('float64')\n",
    "    df['priceTo'] = df['priceTo'].astype('float64')\n",
    "    \n",
    "    \n",
    "    # STEP 3: Clean absent values\n",
    "    # Replace NaN (Not a Number) with None\n",
    "    df = df.replace(np.nan, None)\n",
    "    \n",
    "    \n",
    "    # Return refined dataframe\n",
    "    return df"
   ]
  },
  {
   "cell_type": "code",
   "execution_count": null,
   "metadata": {},
   "outputs": [],
   "source": [
    "# Generate refined offers dataframe\n",
    "df_offers_refined = refine_dataframe(df=df_offers_raw)"
   ]
  },
  {
   "cell_type": "code",
   "execution_count": null,
   "metadata": {},
   "outputs": [],
   "source": [
    "# Display refined offers dataframe\n",
    "display(df_offers_refined)"
   ]
  },
  {
   "cell_type": "markdown",
   "metadata": {},
   "source": [
    "# 3. Creating Instagram Stories images"
   ]
  },
  {
   "cell_type": "code",
   "execution_count": null,
   "metadata": {},
   "outputs": [],
   "source": [
    "# Add Text To Image function\n",
    "def add_text_to_image(\n",
    "    im:PngImageFile,\n",
    "    font:str = '../resources/fonts/OpenSans-VariableFont_wdth,wght.ttf',\n",
    "    font_size:int = 12,\n",
    "    x:int = 0,\n",
    "    y:int = 0,\n",
    "    text:str = 'No text provided',\n",
    "    text_align:str = 'left',\n",
    "):\n",
    "    \n",
    "    # Get a drawing context\n",
    "    draw = ImageDraw.Draw(im=im)\n",
    "    \n",
    "    # Set font\n",
    "    text_font = ImageFont.truetype(\n",
    "        font=font,\n",
    "        size=font_size,\n",
    "        encoding='unic'\n",
    "    )\n",
    "    \n",
    "    # Add text to image\n",
    "    draw.multiline_text(\n",
    "        xy=(x,y),\n",
    "        text=text,\n",
    "        fill=(0,0,0),\n",
    "        font=text_font,\n",
    "        align=text_align,\n",
    "        stroke_width=0\n",
    "    )\n",
    "    \n",
    "    # Return image (with added text)\n",
    "    return im\n",
    "    "
   ]
  },
  {
   "cell_type": "code",
   "execution_count": null,
   "metadata": {},
   "outputs": [],
   "source": [
    "def generate_ig_stories_image(\n",
    "    offer_thumbnail:str = None,\n",
    "    offer_name:str = None,\n",
    "    offer_price_from:str = None,\n",
    "    offer_price_to:str = None,\n",
    "    file_path:str = None\n",
    ") -> str:\n",
    "    \n",
    "    # STEP 1: Create empty IG Stories image from template\n",
    "    # Create empty story from template\n",
    "    im_ig_stories = Image.open(fp='../resources/story_template_720x1280_final.png')\n",
    "    \n",
    "    \n",
    "    # STEP 2: Add offer thumbnail to IG Stories image\n",
    "    # Get offer thumbnail\n",
    "    im_thumbnail = Image.open(requests.get(offer_thumbnail, stream=True).raw)\n",
    "    # Resize offer thumbnail\n",
    "    im_thumbnail = im_thumbnail.resize(size=(640,640))\n",
    "    # Paste offer thumbnail to story image\n",
    "    im_ig_stories.paste(im=im_thumbnail,box=(40, 130))\n",
    "    \n",
    "    \n",
    "    # STEP 3: Add offer name to IG Stories image\n",
    "    # Add offer name\n",
    "    im_ig_stories = add_text_to_image(\n",
    "        im=im_ig_stories,\n",
    "        font_size=40,\n",
    "        x=27.5, # (10+17.5)\n",
    "        y=827.5, # (100+700+20+7.5)\n",
    "        text= '\\n'.join(wrap(text=offer_name, width=30)),\n",
    "        text_align='left'\n",
    "    )\n",
    "    \n",
    "    \n",
    "    # STEP 4: Add offer price to IG Stories image\n",
    "    # If no priceFrom:\n",
    "    if offer_price_from == None:\n",
    "        price_text = f'Por apenas R${offer_price_to:.2f}!'\n",
    "    # Else (if priceFrom):\n",
    "    else:\n",
    "        price_text = f'De R${offer_price_from:.2f} por apenas R${offer_price_to:.2f}!'\n",
    "    # Add offer price to IG Stories image\n",
    "    im_ig_stories = add_text_to_image(\n",
    "        im=im_ig_stories,\n",
    "        font_size=37.5,\n",
    "        x=27.5, # (10+17.5)\n",
    "        y=1062.5, # (100+700+20+210+20+12.5)\n",
    "        text=price_text,\n",
    "        text_align='left'\n",
    "    )\n",
    "    \n",
    "    \n",
    "    # STEP 5: Save IG Stories image to temp folder\n",
    "    im_ig_stories.save(fp=file_path, format='png')\n",
    "    \n",
    "    \n",
    "    # Return path fo IG Stories image\n",
    "    return file_path\n",
    "    "
   ]
  },
  {
   "cell_type": "code",
   "execution_count": null,
   "metadata": {},
   "outputs": [],
   "source": [
    "# Add Instagram Stories Images To Dataframe function\n",
    "def add_ig_stories_images_to_df(df_offers:pd.core.frame.DataFrame) -> pd.core.frame.DataFrame:\n",
    "    \n",
    "    # Create empty list of IG Stories images\n",
    "    ig_stories_images = []\n",
    "    \n",
    "    # For each offer in offers dataframe:\n",
    "    for i in range(len(df_offers)):\n",
    "        \n",
    "        # Generate IG Stories image\n",
    "        ig_stories_images.append(\n",
    "            generate_ig_stories_image(\n",
    "                offer_thumbnail= df_offers.loc[i, 'offerThumbnail'],\n",
    "                offer_name= df_offers.loc[i, 'offerName'],\n",
    "                offer_price_from= df_offers.loc[i, 'priceFrom'],\n",
    "                offer_price_to= df_offers.loc[i, 'priceTo'],\n",
    "                file_path= f'../temp/ig_stories_images/offer_{i}.png',\n",
    "            )\n",
    "        )\n",
    "    \n",
    "    # Add IG Stories images list as column in dataframe        \n",
    "    df_offers['storiesImage'] = ig_stories_images\n",
    "    \n",
    "    # Return dataframe\n",
    "    return df_offers"
   ]
  },
  {
   "cell_type": "code",
   "execution_count": null,
   "metadata": {},
   "outputs": [],
   "source": [
    "df_offers_ready = add_ig_stories_images_to_df(df_offers=df_offers_refined)"
   ]
  },
  {
   "cell_type": "code",
   "execution_count": null,
   "metadata": {},
   "outputs": [],
   "source": [
    "display(df_offers_refined)"
   ]
  }
 ],
 "metadata": {
  "kernelspec": {
   "display_name": ".venv",
   "language": "python",
   "name": "python3"
  },
  "language_info": {
   "codemirror_mode": {
    "name": "ipython",
    "version": 3
   },
   "file_extension": ".py",
   "mimetype": "text/x-python",
   "name": "python",
   "nbconvert_exporter": "python",
   "pygments_lexer": "ipython3",
   "version": "3.10.12"
  },
  "orig_nbformat": 4
 },
 "nbformat": 4,
 "nbformat_minor": 2
}
