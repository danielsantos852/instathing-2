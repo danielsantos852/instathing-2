{
 "cells": [
  {
   "cell_type": "code",
   "execution_count": null,
   "metadata": {},
   "outputs": [],
   "source": [
    "# Imports\n",
    "import random\n",
    "import sys\n",
    "import time\n",
    "\n",
    "from ppadb.client import Client as AdbClient\n",
    "from ppadb.device import Device as AdbDevice\n",
    "\n",
    "import config as cfg\n",
    "from utils import (get_available_devices, \n",
    "                   connect_to_device, \n",
    "                   get_device_screen_res,\n",
    "                   copy_file_to_device,\n",
    "                   launch_ig_app,\n",
    "                   time_sleep)"
   ]
  },
  {
   "cell_type": "code",
   "execution_count": null,
   "metadata": {},
   "outputs": [],
   "source": [
    "# Global Variables (Configurations)\n",
    "TMP_OFFER_IMG_FILEPATH = cfg.DEFAULT_TMP_OFFER_IMG_FILEPATH_ANDROID\n",
    "LINK_STICKER_TEXT = cfg.DEFAULT_LINK_STICKER_TXT"
   ]
  },
  {
   "cell_type": "code",
   "execution_count": null,
   "metadata": {},
   "outputs": [],
   "source": [
    "# Parameters\n",
    "device = connect_to_device(get_available_devices()[0].serial)\n",
    "img_src = '../rsc/img/tmpl_story_720x1280_final.png'\n",
    "stckr_url = 'www.example.com'\n",
    "stckr_text = LINK_STICKER_TEXT\n",
    "close_friends = True\n",
    "restart_ig_app = True\n",
    "tmp_offer_img_filepath = TMP_OFFER_IMG_FILEPATH"
   ]
  },
  {
   "cell_type": "code",
   "execution_count": null,
   "metadata": {},
   "outputs": [],
   "source": [
    "# Get screen width and height (in pixels)\n",
    "scrn_width, scrn_height = get_device_screen_res(device=device)\n",
    "print(f'Screen resolution: {scrn_width} by {scrn_height} pixels.')"
   ]
  },
  {
   "cell_type": "code",
   "execution_count": null,
   "metadata": {},
   "outputs": [],
   "source": [
    "# Copy post image from computer to android device\n",
    "copy_file_to_device(src=img_src,\n",
    "                    dest=tmp_offer_img_filepath,\n",
    "                    device=device)"
   ]
  },
  {
   "cell_type": "code",
   "execution_count": null,
   "metadata": {},
   "outputs": [],
   "source": [
    "# (Re)Start IG app\n",
    "launch_ig_app(device=device,\n",
    "              force_stop=restart_ig_app)"
   ]
  }
 ],
 "metadata": {
  "kernelspec": {
   "display_name": ".venv",
   "language": "python",
   "name": "python3"
  },
  "language_info": {
   "codemirror_mode": {
    "name": "ipython",
    "version": 3
   },
   "file_extension": ".py",
   "mimetype": "text/x-python",
   "name": "python",
   "nbconvert_exporter": "python",
   "pygments_lexer": "ipython3",
   "version": "3.12.0"
  }
 },
 "nbformat": 4,
 "nbformat_minor": 2
}
